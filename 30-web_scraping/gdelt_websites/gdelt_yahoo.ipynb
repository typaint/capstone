{
 "cells": [
  {
   "cell_type": "markdown",
   "id": "a3061b9c",
   "metadata": {},
   "source": [
    "# Web Scraper\n",
    "- Beautiful Soup: https://realpython.com/beautiful-soup-web-scraper-python/"
   ]
  },
  {
   "cell_type": "code",
   "execution_count": 1,
   "id": "4711ac0f",
   "metadata": {},
   "outputs": [],
   "source": [
    "import pandas as pd\n",
    "import time, datetime\n",
    "import multiprocessing as mp\n",
    "from datetime import datetime as dt\n",
    "import math"
   ]
  },
  {
   "cell_type": "markdown",
   "id": "b8aaf661",
   "metadata": {},
   "source": [
    "## Load Data"
   ]
  },
  {
   "cell_type": "code",
   "execution_count": 2,
   "id": "7d9a5b5a",
   "metadata": {},
   "outputs": [
    {
     "data": {
      "text/plain": [
       "['1', '3', '4', '5', '7', '8', '9', '10', '11', '12', '13', '14', '23']"
      ]
     },
     "execution_count": 2,
     "metadata": {},
     "output_type": "execute_result"
    }
   ],
   "source": [
    "bad_cols = [0,2,6,15,16,17,18,19,20,21,22,24,25,26] # unnecessary columns from example_data notebook\n",
    "cols = list(range(0,26)) # list of all columns\n",
    "good_cols = [i for i in cols if i not in bad_cols] # create list of useful columns\n",
    "good_cols = [str(x) for x in good_cols] # convert to string\n",
    "good_cols"
   ]
  },
  {
   "cell_type": "code",
   "execution_count": 4,
   "id": "27cdcc14",
   "metadata": {},
   "outputs": [],
   "source": [
    "start = time.time()\n",
    "# read data in chunks of 100k rows at a time\n",
    "chunk = pd.read_csv('../00-data/gdelt_data/2021/gdelt_sum_dec2021.csv.zip', \n",
    "                    chunksize=100000, \n",
    "                    dtype={'3': 'str'})#, # mixed data types\n",
    "                    #index_col=[0]) # specify index column\n",
    "# iter_csv = pd.read_csv('file.csv', iterator=True, chunksize=1000)\n",
    "# df = pd.concat([chunk[chunk['field'] > constant] for chunk in iter_csv])\n",
    "df = pd.concat(chunk) # concat chunks together\n",
    "end = time.time()\n",
    "print(\"Read csv with chunks: \",(end-start),\"sec\")"
   ]
  },
  {
   "cell_type": "code",
   "execution_count": null,
   "id": "c2a73e9a",
   "metadata": {},
   "outputs": [],
   "source": [
    "df"
   ]
  },
  {
   "cell_type": "code",
   "execution_count": null,
   "id": "13b3ff69",
   "metadata": {},
   "outputs": [],
   "source": [
    "type(df['1'][0])"
   ]
  },
  {
   "cell_type": "code",
   "execution_count": null,
   "id": "2b037179",
   "metadata": {
    "scrolled": true
   },
   "outputs": [],
   "source": [
    "bad_rows = df[~df['1'].str.get(0).isin(['2'])].index # remove rows with dates that don't start with 2\n",
    "bad_rows = bad_rows.append(df[~df['1'].str.get(1).isin(['0'])].index) # remove rows with dates second number isn't 0\n",
    "df = df.drop(index = bad_rows)\n",
    "df['1'] = [int(float(i)) for i in df['1']]\n",
    "df"
   ]
  },
  {
   "cell_type": "code",
   "execution_count": null,
   "id": "c3d54b8a",
   "metadata": {
    "scrolled": true
   },
   "outputs": [],
   "source": [
    "filter_df = df[df['3']=='yahoo.com']\n",
    "filter_df"
   ]
  },
  {
   "cell_type": "code",
   "execution_count": null,
   "id": "3aa98d04",
   "metadata": {},
   "outputs": [],
   "source": [
    "filter_urls = filter_df['4']\n",
    "filter_urls"
   ]
  },
  {
   "cell_type": "code",
   "execution_count": null,
   "id": "75785cc5",
   "metadata": {},
   "outputs": [],
   "source": [
    "filter_urls.iloc[1]"
   ]
  },
  {
   "cell_type": "markdown",
   "id": "8c47929c",
   "metadata": {},
   "source": [
    "## Beautiful Soup"
   ]
  },
  {
   "cell_type": "code",
   "execution_count": 6,
   "id": "f019d265",
   "metadata": {},
   "outputs": [],
   "source": [
    "from bs4 import BeautifulSoup\n",
    "import requests\n",
    "\n",
    "URL = filter_urls.iloc[1]\n",
    "page = requests.get(URL)\n",
    "\n",
    "soup = BeautifulSoup(page.content, \"html.parser\")"
   ]
  },
  {
   "cell_type": "code",
   "execution_count": null,
   "id": "076d189c",
   "metadata": {},
   "outputs": [],
   "source": [
    "master = soup.find(id=\"Masterwrap2Col\")\n",
    "print(master.prettify())"
   ]
  },
  {
   "cell_type": "code",
   "execution_count": null,
   "id": "4abd8a1b",
   "metadata": {
    "scrolled": true
   },
   "outputs": [],
   "source": [
    "final = master.find(\"div\", class_=\"caas-body\")\n",
    "print(final.text)"
   ]
  },
  {
   "cell_type": "code",
   "execution_count": null,
   "id": "f3aa1a0b",
   "metadata": {},
   "outputs": [],
   "source": [
    "sum_urls = filter_urls[0:10]\n",
    "sum_urls"
   ]
  },
  {
   "cell_type": "code",
   "execution_count": null,
   "id": "6143eedb",
   "metadata": {
    "scrolled": true
   },
   "outputs": [],
   "source": [
    "from bs4 import BeautifulSoup\n",
    "import requests\n",
    "ls = []\n",
    "for i in range(len(sum_urls)): #filter_urls\n",
    "    URL = sum_urls.iloc[i] # filter_urls\n",
    "    page = requests.get(URL,headers={'User-Agent': 'Mozilla/5.0 (Macintosh; Intel Mac OS X 10_13_4) AppleWebKit/537.36 (KHTML, like Gecko) Chrome/35.0.1916.47 Safari/537.36'})\n",
    "    soup = BeautifulSoup(page.content, \"html.parser\")\n",
    "    try:\n",
    "        try:\n",
    "            master = soup.find(id=\"Masterwrap\")\n",
    "            final = master.find(\"div\", class_=\"caas-body\")\n",
    "        except AttributeError:\n",
    "            master = soup.find(id=\"Masterwrap2Col\")\n",
    "            final = master.find(\"div\", class_=\"caas-body\")\n",
    "    except AttributeError:\n",
    "        ls.append(URL)\n",
    "        pass"
   ]
  },
  {
   "cell_type": "code",
   "execution_count": null,
   "id": "1b4ea7be",
   "metadata": {},
   "outputs": [],
   "source": [
    "ls"
   ]
  },
  {
   "cell_type": "code",
   "execution_count": null,
   "id": "702f9224",
   "metadata": {},
   "outputs": [],
   "source": []
  },
  {
   "cell_type": "code",
   "execution_count": null,
   "id": "32124bf9",
   "metadata": {},
   "outputs": [],
   "source": [
    "filter_urls.iloc[0]"
   ]
  },
  {
   "cell_type": "code",
   "execution_count": 7,
   "id": "b6f1a250",
   "metadata": {},
   "outputs": [
    {
     "data": {
      "text/plain": [
       "'Stocks continue their sell-off, with Tesla, Amazon, and Alibaba among the biggest decliners.Video Transcript[MUSIC PLAYING]- A massive sell-off with just over 25 minutes-- 35 minutes to go in the trading day. Dow still off just over 1,300 points. S&P and NASDAQ firmly in the red.Taking a look at some of the trending tickers on our site. The biggest decliners that we are seeing. Tesla off just nearly 10%. Amazon, Alibaba, Aurora, and Apple rounding out the top five trending tickers, biggest decliners, on our site.'"
      ]
     },
     "execution_count": 7,
     "metadata": {},
     "output_type": "execute_result"
    }
   ],
   "source": [
    "URL = \"https://finance.yahoo.com/video/tesla-amazon-alibaba-among-biggest-194513840.html\"#filter_urls.iloc[0]\n",
    "page = requests.get(URL,headers={'User-Agent': 'Mozilla/5.0 (Macintosh; Intel Mac OS X 10_13_4) AppleWebKit/537.36 (KHTML, like Gecko) Chrome/35.0.1916.47 Safari/537.36'})\n",
    "soup = BeautifulSoup(page.content, \"html.parser\")\n",
    "try:\n",
    "    try:\n",
    "        master = soup.find(id=\"Masterwrap\")\n",
    "        final = master.find(\"div\", class_=\"caas-body\")\n",
    "    except AttributeError:\n",
    "        master = soup.find(id=\"Masterwrap2Col\")\n",
    "        final = master.find(\"div\", class_=\"caas-body\")\n",
    "except AttributeError:\n",
    "    ls.append(URL)\n",
    "    pass\n",
    "final.text"
   ]
  }
 ],
 "metadata": {
  "kernelspec": {
   "display_name": "Python 3",
   "language": "python",
   "name": "python3"
  },
  "language_info": {
   "codemirror_mode": {
    "name": "ipython",
    "version": 3
   },
   "file_extension": ".py",
   "mimetype": "text/x-python",
   "name": "python",
   "nbconvert_exporter": "python",
   "pygments_lexer": "ipython3",
   "version": "3.8.3"
  },
  "toc": {
   "base_numbering": 1,
   "nav_menu": {},
   "number_sections": true,
   "sideBar": true,
   "skip_h1_title": false,
   "title_cell": "Table of Contents",
   "title_sidebar": "Contents",
   "toc_cell": false,
   "toc_position": {},
   "toc_section_display": true,
   "toc_window_display": false
  }
 },
 "nbformat": 4,
 "nbformat_minor": 5
}
