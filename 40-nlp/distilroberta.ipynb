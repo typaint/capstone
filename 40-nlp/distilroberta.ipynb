{
 "cells": [
  {
   "cell_type": "markdown",
   "metadata": {
    "toc": true
   },
   "source": [
    "<h1>Table of Contents<span class=\"tocSkip\"></span></h1>\n",
    "<div class=\"toc\"><ul class=\"toc-item\"></ul></div>"
   ]
  },
  {
   "cell_type": "code",
   "execution_count": 1,
   "metadata": {
    "executionInfo": {
     "elapsed": 4,
     "status": "ok",
     "timestamp": 1646166512338,
     "user": {
      "displayName": "Ty Painter",
      "photoUrl": "https://lh3.googleusercontent.com/a/default-user=s64",
      "userId": "04234853017868576860"
     },
     "user_tz": 360
    },
    "id": "Z6sGkdoq7guF"
   },
   "outputs": [],
   "source": [
    "# the package we'll use to send an \n",
    "# HTTP request to Hugging Face's API import requests\n",
    "import requests\n",
    "# A URL to indicate which model we'll use. \n",
    "#If you visit it, the page displays information on the model.\n",
    "API_URL = \"https://api-inference.huggingface.co/models/mrm8488/distilroberta-finetuned-financial-news-sentiment-analysis\"\n",
    "# A dictionary that contains our private key.\n",
    "# Be sure change this to include your own key. \n",
    "headers = {\"private\": \"false\"}\n",
    "#{\"do_lower_case\": true, \"unk_token\": \"[UNK]\", \"sep_token\": \"[SEP]\", \"pad_token\": \"[PAD]\", \"cls_token\": \"[CLS]\", \"mask_token\": \"[MASK]\", \"tokenize_chinese_chars\": true, \"strip_accents\": null, \"model_max_length\": 512, \"name_or_path\": \"bert-base-uncased\"}\n",
    "# A method that we'll call to run the model \n",
    "def query(payload):\n",
    " # Makes a request to Hugging Face's API  \n",
    " response = requests.post(API_URL, headers=headers, json=payload)\n",
    " return response.json()"
   ]
  },
  {
   "cell_type": "code",
   "execution_count": 4,
   "metadata": {
    "colab": {
     "base_uri": "https://localhost:8080/"
    },
    "executionInfo": {
     "elapsed": 876,
     "status": "ok",
     "timestamp": 1646166590038,
     "user": {
      "displayName": "Ty Painter",
      "photoUrl": "https://lh3.googleusercontent.com/a/default-user=s64",
      "userId": "04234853017868576860"
     },
     "user_tz": 360
    },
    "id": "LCtQj0edJ1Z5",
    "outputId": "f55dc02f-1a63-4720-89e7-0bd061488664"
   },
   "outputs": [
    {
     "name": "stdout",
     "output_type": "stream",
     "text": [
      "[[{'label': 'negative', 'score': 0.9984173774719238}, {'label': 'neutral', 'score': 0.0010758034186437726}, {'label': 'positive', 'score': 0.0005068433238193393}]]\n"
     ]
    }
   ],
   "source": [
    "output = query(\"Tesla's stock decreased by 20% today!\")\n",
    "print(output)"
   ]
  },
  {
   "cell_type": "code",
   "execution_count": 8,
   "metadata": {
    "colab": {
     "base_uri": "https://localhost:8080/"
    },
    "executionInfo": {
     "elapsed": 379,
     "status": "ok",
     "timestamp": 1646166631530,
     "user": {
      "displayName": "Ty Painter",
      "photoUrl": "https://lh3.googleusercontent.com/a/default-user=s64",
      "userId": "04234853017868576860"
     },
     "user_tz": 360
    },
    "id": "EJod2FoJEaEn",
    "outputId": "9e822ed7-eeac-4275-d849-9573a0ea732d"
   },
   "outputs": [
    {
     "name": "stdout",
     "output_type": "stream",
     "text": [
      "[[{'label': 'negative', 'score': 0.00022498672478832304}, {'label': 'neutral', 'score': 0.00017525360453873873}, {'label': 'positive', 'score': 0.9995997548103333}]]\n"
     ]
    }
   ],
   "source": [
    "output = query(\"Tesla's stock rocketed by 20% today!\")\n",
    "print(output)"
   ]
  }
 ],
 "metadata": {
  "colab": {
   "authorship_tag": "ABX9TyPfsbJbFRkxriPPJhCfk/cQ",
   "name": "Copy of Untitled",
   "provenance": [
    {
     "file_id": "1W861_IyTTz3VMwCVqzFbz5IJKVorV_Qv",
     "timestamp": 1646166476529
    }
   ]
  },
  "kernelspec": {
   "display_name": "Python 3",
   "language": "python",
   "name": "python3"
  },
  "language_info": {
   "codemirror_mode": {
    "name": "ipython",
    "version": 3
   },
   "file_extension": ".py",
   "mimetype": "text/x-python",
   "name": "python",
   "nbconvert_exporter": "python",
   "pygments_lexer": "ipython3",
   "version": "3.8.3"
  },
  "toc": {
   "base_numbering": 1,
   "nav_menu": {},
   "number_sections": false,
   "sideBar": true,
   "skip_h1_title": true,
   "title_cell": "Table of Contents",
   "title_sidebar": "Contents",
   "toc_cell": true,
   "toc_position": {},
   "toc_section_display": true,
   "toc_window_display": true
  }
 },
 "nbformat": 4,
 "nbformat_minor": 1
}
