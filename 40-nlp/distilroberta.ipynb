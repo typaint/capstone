{
 "cells": [
  {
   "cell_type": "markdown",
   "metadata": {
    "toc": true
   },
   "source": [
    "<h1>Table of Contents<span class=\"tocSkip\"></span></h1>\n",
    "<div class=\"toc\"><ul class=\"toc-item\"></ul></div>"
   ]
  },
  {
   "cell_type": "code",
   "execution_count": 14,
   "metadata": {
    "executionInfo": {
     "elapsed": 4,
     "status": "ok",
     "timestamp": 1646166512338,
     "user": {
      "displayName": "Ty Painter",
      "photoUrl": "https://lh3.googleusercontent.com/a/default-user=s64",
      "userId": "04234853017868576860"
     },
     "user_tz": 360
    },
    "id": "Z6sGkdoq7guF"
   },
   "outputs": [],
   "source": [
    "# the package we'll use to send an \n",
    "# HTTP request to Hugging Face's API import requests\n",
    "import requests\n",
    "# A URL to indicate which model we'll use. \n",
    "#If you visit it, the page displays information on the model.\n",
    "API_URL = \"https://api-inference.huggingface.co/models/mrm8488/distilroberta-finetuned-financial-news-sentiment-analysis\"\n",
    "# A dictionary that contains our private key.\n",
    "# Be sure change this to include your own key. \n",
    "headers = {\"private\": \"false\"}\n",
    "#{\"do_lower_case\": true, \"unk_token\": \"[UNK]\", \"sep_token\": \"[SEP]\", \"pad_token\": \"[PAD]\", \"cls_token\": \"[CLS]\", \"mask_token\": \"[MASK]\", \"tokenize_chinese_chars\": true, \"strip_accents\": null, \"model_max_length\": 512, \"name_or_path\": \"bert-base-uncased\"}\n",
    "# A method that we'll call to run the model \n",
    "def query(payload):\n",
    " # Makes a request to Hugging Face's API  \n",
    " response = requests.post(API_URL, headers=headers, json=payload)\n",
    " return response.json()"
   ]
  },
  {
   "cell_type": "code",
   "execution_count": 15,
   "metadata": {
    "colab": {
     "base_uri": "https://localhost:8080/"
    },
    "executionInfo": {
     "elapsed": 876,
     "status": "ok",
     "timestamp": 1646166590038,
     "user": {
      "displayName": "Ty Painter",
      "photoUrl": "https://lh3.googleusercontent.com/a/default-user=s64",
      "userId": "04234853017868576860"
     },
     "user_tz": 360
    },
    "id": "LCtQj0edJ1Z5",
    "outputId": "f55dc02f-1a63-4720-89e7-0bd061488664"
   },
   "outputs": [
    {
     "name": "stdout",
     "output_type": "stream",
     "text": [
      "[[{'label': 'negative', 'score': 0.9984173774719238}, {'label': 'neutral', 'score': 0.0010758034186437726}, {'label': 'positive', 'score': 0.0005068433238193393}]]\n"
     ]
    }
   ],
   "source": [
    "output = query(\"Tesla's stock decreased by 20% today!\")\n",
    "print(output)"
   ]
  },
  {
   "cell_type": "code",
   "execution_count": 16,
   "metadata": {
    "colab": {
     "base_uri": "https://localhost:8080/"
    },
    "executionInfo": {
     "elapsed": 379,
     "status": "ok",
     "timestamp": 1646166631530,
     "user": {
      "displayName": "Ty Painter",
      "photoUrl": "https://lh3.googleusercontent.com/a/default-user=s64",
      "userId": "04234853017868576860"
     },
     "user_tz": 360
    },
    "id": "EJod2FoJEaEn",
    "outputId": "9e822ed7-eeac-4275-d849-9573a0ea732d"
   },
   "outputs": [
    {
     "name": "stdout",
     "output_type": "stream",
     "text": [
      "[[{'label': 'negative', 'score': 0.00022498672478832304}, {'label': 'neutral', 'score': 0.00017525360453873873}, {'label': 'positive', 'score': 0.9995997548103333}]]\n"
     ]
    }
   ],
   "source": [
    "output = query(\"Tesla's stock rocketed by 20% today!\")\n",
    "print(output)"
   ]
  },
  {
   "cell_type": "code",
   "execution_count": 59,
   "metadata": {},
   "outputs": [],
   "source": [
    "article = 'Stocks continue their sell-off, with Tesla, Amazon, and Alibaba among the biggest decliners.Video Transcript[MUSIC PLAYING]- A massive sell-off with just over 25 minutes-- 35 minutes to go in the trading day. Dow still off just over 1,300 points. S&P and NASDAQ firmly in the red.Taking a look at some of the trending tickers on our site. The biggest decliners that we are seeing. Tesla off just nearly 10%. Amazon, Alibaba, Aurora, and Apple rounding out the top five trending tickers, biggest decliners, on our site.'"
   ]
  },
  {
   "cell_type": "code",
   "execution_count": 34,
   "metadata": {},
   "outputs": [],
   "source": [
    "from transformers import pipeline\n",
    "roberta = pipeline(task='sentiment-analysis', \n",
    "                   model=\"mrm8488/distilroberta-finetuned-financial-news-sentiment-analysis\",\n",
    "                   return_all_scores=True,\n",
    "                   max_length=514, \n",
    "                   truncation=True)"
   ]
  },
  {
   "cell_type": "code",
   "execution_count": 60,
   "metadata": {},
   "outputs": [],
   "source": [
    "# yahoo web scrape NLP\n",
    "\n",
    "    \n",
    "score_df = pd.DataFrame()\n",
    "#     sentence_df = pd.DataFrame()\n",
    "#     tag_df = pd.DataFrame(columns=[\"tags\"])\n",
    "    \n",
    "#     nf = \"Content is currently unavailable\"\n",
    "    \n",
    "# #for i in range(len(urls)): #filter_urls\n",
    "#     #URL = #urls.iloc[i] # filter_urls\n",
    "#     page = requests.get(URL,headers={'User-Agent': 'Mozilla/5.0 (Macintosh; Intel Mac OS X 10_13_4) AppleWebKit/537.36 (KHTML, like Gecko) Chrome/35.0.1916.47 Safari/537.36'})\n",
    "#     soup = BeautifulSoup(page.content, \"html.parser\")\n",
    "#     if nf in soup.prettify():\n",
    "#         text = \"NA\"\n",
    "#         score_df = score_df.append(read_grades(text))\n",
    "#         sentence_df = sentence_df.append(sentence_info(text))\n",
    "#         tag_df.at[i, 'tags'] = tag_article(text,companies,tick_comp_df)\n",
    "\n",
    "#     try:\n",
    "#         try:\n",
    "#             master = soup.find(id=\"Masterwrap\")\n",
    "#             final = master.find(\"div\", class_=\"caas-body\")\n",
    "#         except AttributeError:\n",
    "#             master = soup.find(id=\"Masterwrap2Col\")\n",
    "#             final = master.find(\"div\", class_=\"caas-body\")\n",
    "#     except AttributeError:\n",
    "#         pass\n",
    "\n",
    "#     text = re.sub('(<p>)', ' ', str(final))\n",
    "#     text = re.sub('<[^>]+>', '', str(text))\n",
    "sen_list = article.split(\". \")\n",
    "article = [\".\\n \".join(sen_list[:-2])][0] # remove author signature\n",
    "#score_df = score_df.append(read_grades(article))\n",
    "#sentence_df = sentence_df.append(sentence_info(article))\n",
    "#tag_df.at[i, 'tags'] = tag_article(article,companies,tick_comp_df)\n",
    "\n",
    "pos = []\n",
    "neg = []\n",
    "neu = []\n",
    "net = []\n",
    "\n",
    "for sen in sen_list:\n",
    "    output = roberta(sen)\n",
    "    #output = roberta(sen[0:514])\n",
    "    neg.append(output[0][0]['score'])\n",
    "    neu.append(output[0][1]['score'])\n",
    "    pos.append(output[0][2]['score'])\n",
    "    net.append(pos[-1] - neg[-1])\n",
    "\n",
    "#     df.pos_mean.iloc[i], df.pos_median.iloc[i], df.pos_min.iloc[i], df.pos_max.iloc[i] = summary_stats(pos)\n",
    "#     df.neg_mean.iloc[i], df.neg_median.iloc[i], df.neg_min.iloc[i], df.neg_max.iloc[i] = summary_stats(neg)\n",
    "#     df.neu_mean.iloc[i], df.neu_median.iloc[i], df.neu_min.iloc[i], df.neu_max.iloc[i] = summary_stats(neu)\n",
    "#     df.net_mean.iloc[i], df.net_median.iloc[i], df.net_min.iloc[i], df.net_max.iloc[i] = summary_stats(net)\n",
    "\n",
    "#     score_df.index = df.index\n",
    "#     sentence_df.index = df.index\n",
    "#     tag_df.index = df.index\n",
    "#     df = pd.concat([df,score_df,sentence_df,tag_df],axis=1)\n",
    "#     df = df.dropna()\n",
    "        "
   ]
  },
  {
   "cell_type": "code",
   "execution_count": 63,
   "metadata": {},
   "outputs": [
    {
     "data": {
      "text/plain": [
       "['Stocks continue their sell-off, with Tesla, Amazon, and Alibaba among the biggest decliners.Video Transcript[MUSIC PLAYING]- A massive sell-off with just over 25 minutes-- 35 minutes to go in the trading day',\n",
       " 'Dow still off just over 1,300 points',\n",
       " 'S&P and NASDAQ firmly in the red.Taking a look at some of the trending tickers on our site',\n",
       " 'The biggest decliners that we are seeing',\n",
       " 'Tesla off just nearly 10%',\n",
       " 'Amazon, Alibaba, Aurora, and Apple rounding out the top five trending tickers, biggest decliners, on our site.']"
      ]
     },
     "execution_count": 63,
     "metadata": {},
     "output_type": "execute_result"
    }
   ],
   "source": [
    "sen_list"
   ]
  },
  {
   "cell_type": "code",
   "execution_count": 62,
   "metadata": {},
   "outputs": [
    {
     "name": "stdout",
     "output_type": "stream",
     "text": [
      "[0.000609890092164278, 0.0009496893617324531, 0.00010529914288781583, 6.586547533515841e-05, 0.0005465730791911483, 6.093690171837807e-05]\n"
     ]
    }
   ],
   "source": [
    "print(pos)"
   ]
  },
  {
   "cell_type": "code",
   "execution_count": 71,
   "metadata": {},
   "outputs": [],
   "source": [
    "df = pd.DataFrame(columns={\"sentence\", \"positive\", \"neutral\", \"negative\", \"net\"})\n",
    "df.sentence=sen_list\n",
    "df.positive=pos\n",
    "df.neutral=neu\n",
    "df.negative=neg\n",
    "df.net=net\n",
    "df.to_excel(\"sentence_scores.xlsx\", index=False)"
   ]
  },
  {
   "cell_type": "code",
   "execution_count": 72,
   "metadata": {},
   "outputs": [
    {
     "data": {
      "text/html": [
       "<div>\n",
       "<style scoped>\n",
       "    .dataframe tbody tr th:only-of-type {\n",
       "        vertical-align: middle;\n",
       "    }\n",
       "\n",
       "    .dataframe tbody tr th {\n",
       "        vertical-align: top;\n",
       "    }\n",
       "\n",
       "    .dataframe thead th {\n",
       "        text-align: right;\n",
       "    }\n",
       "</style>\n",
       "<table border=\"1\" class=\"dataframe\">\n",
       "  <thead>\n",
       "    <tr style=\"text-align: right;\">\n",
       "      <th></th>\n",
       "      <th>sentence</th>\n",
       "      <th>negative</th>\n",
       "      <th>neutral</th>\n",
       "      <th>positive</th>\n",
       "      <th>net</th>\n",
       "    </tr>\n",
       "  </thead>\n",
       "  <tbody>\n",
       "    <tr>\n",
       "      <th>0</th>\n",
       "      <td>Stocks continue their sell-off, with Tesla, Am...</td>\n",
       "      <td>0.992247</td>\n",
       "      <td>0.007143</td>\n",
       "      <td>0.000610</td>\n",
       "      <td>-0.991637</td>\n",
       "    </tr>\n",
       "    <tr>\n",
       "      <th>1</th>\n",
       "      <td>Dow still off just over 1,300 points</td>\n",
       "      <td>0.996589</td>\n",
       "      <td>0.002462</td>\n",
       "      <td>0.000950</td>\n",
       "      <td>-0.995639</td>\n",
       "    </tr>\n",
       "    <tr>\n",
       "      <th>2</th>\n",
       "      <td>S&amp;P and NASDAQ firmly in the red.Taking a look...</td>\n",
       "      <td>0.000083</td>\n",
       "      <td>0.999812</td>\n",
       "      <td>0.000105</td>\n",
       "      <td>0.000022</td>\n",
       "    </tr>\n",
       "    <tr>\n",
       "      <th>3</th>\n",
       "      <td>The biggest decliners that we are seeing</td>\n",
       "      <td>0.000141</td>\n",
       "      <td>0.999793</td>\n",
       "      <td>0.000066</td>\n",
       "      <td>-0.000075</td>\n",
       "    </tr>\n",
       "    <tr>\n",
       "      <th>4</th>\n",
       "      <td>Tesla off just nearly 10%</td>\n",
       "      <td>0.997608</td>\n",
       "      <td>0.001846</td>\n",
       "      <td>0.000547</td>\n",
       "      <td>-0.997061</td>\n",
       "    </tr>\n",
       "    <tr>\n",
       "      <th>5</th>\n",
       "      <td>Amazon, Alibaba, Aurora, and Apple rounding ou...</td>\n",
       "      <td>0.000068</td>\n",
       "      <td>0.999871</td>\n",
       "      <td>0.000061</td>\n",
       "      <td>-0.000007</td>\n",
       "    </tr>\n",
       "  </tbody>\n",
       "</table>\n",
       "</div>"
      ],
      "text/plain": [
       "                                            sentence  negative   neutral  \\\n",
       "0  Stocks continue their sell-off, with Tesla, Am...  0.992247  0.007143   \n",
       "1               Dow still off just over 1,300 points  0.996589  0.002462   \n",
       "2  S&P and NASDAQ firmly in the red.Taking a look...  0.000083  0.999812   \n",
       "3           The biggest decliners that we are seeing  0.000141  0.999793   \n",
       "4                          Tesla off just nearly 10%  0.997608  0.001846   \n",
       "5  Amazon, Alibaba, Aurora, and Apple rounding ou...  0.000068  0.999871   \n",
       "\n",
       "   positive       net  \n",
       "0  0.000610 -0.991637  \n",
       "1  0.000950 -0.995639  \n",
       "2  0.000105  0.000022  \n",
       "3  0.000066 -0.000075  \n",
       "4  0.000547 -0.997061  \n",
       "5  0.000061 -0.000007  "
      ]
     },
     "execution_count": 72,
     "metadata": {},
     "output_type": "execute_result"
    }
   ],
   "source": [
    "df"
   ]
  }
 ],
 "metadata": {
  "colab": {
   "authorship_tag": "ABX9TyPfsbJbFRkxriPPJhCfk/cQ",
   "name": "Copy of Untitled",
   "provenance": [
    {
     "file_id": "1W861_IyTTz3VMwCVqzFbz5IJKVorV_Qv",
     "timestamp": 1646166476529
    }
   ]
  },
  "kernelspec": {
   "display_name": "Python 3",
   "language": "python",
   "name": "python3"
  },
  "language_info": {
   "codemirror_mode": {
    "name": "ipython",
    "version": 3
   },
   "file_extension": ".py",
   "mimetype": "text/x-python",
   "name": "python",
   "nbconvert_exporter": "python",
   "pygments_lexer": "ipython3",
   "version": "3.8.3"
  },
  "toc": {
   "base_numbering": 1,
   "nav_menu": {},
   "number_sections": false,
   "sideBar": true,
   "skip_h1_title": true,
   "title_cell": "Table of Contents",
   "title_sidebar": "Contents",
   "toc_cell": true,
   "toc_position": {},
   "toc_section_display": true,
   "toc_window_display": true
  }
 },
 "nbformat": 4,
 "nbformat_minor": 1
}
