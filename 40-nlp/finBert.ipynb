{
 "cells": [
  {
   "cell_type": "markdown",
   "metadata": {
    "toc": true
   },
   "source": [
    "<h1>Table of Contents<span class=\"tocSkip\"></span></h1>\n",
    "<div class=\"toc\"><ul class=\"toc-item\"></ul></div>"
   ]
  },
  {
   "cell_type": "code",
   "execution_count": 1,
   "metadata": {
    "executionInfo": {
     "elapsed": 214,
     "status": "ok",
     "timestamp": 1646258873524,
     "user": {
      "displayName": "Ty Painter",
      "photoUrl": "https://lh3.googleusercontent.com/a/default-user=s64",
      "userId": "04234853017868576860"
     },
     "user_tz": 360
    },
    "id": "Z6sGkdoq7guF"
   },
   "outputs": [],
   "source": [
    "# the package we'll use to send an \n",
    "# HTTP request to Hugging Face's API import requests\n",
    "import requests\n",
    "# A URL to indicate which model we'll use. \n",
    "#If you visit it, the page displays information on the model.\n",
    "API_URL = \"https://api-inference.huggingface.co/models/ProsusAI/finbert\"\n",
    "# A dictionary that contains our private key.\n",
    "# Be sure change this to include your own key. \n",
    "headers = {\"private\": \"false\"}\n",
    "#{\"do_lower_case\": true, \"unk_token\": \"[UNK]\", \"sep_token\": \"[SEP]\", \"pad_token\": \"[PAD]\", \"cls_token\": \"[CLS]\", \"mask_token\": \"[MASK]\", \"tokenize_chinese_chars\": true, \"strip_accents\": null, \"model_max_length\": 512, \"name_or_path\": \"bert-base-uncased\"}\n",
    "# A method that we'll call to run the model \n",
    "def query(payload):\n",
    " # Makes a request to Hugging Face's API  \n",
    " response = requests.post(API_URL, headers=headers, json=payload)\n",
    " return response.json()"
   ]
  },
  {
   "cell_type": "code",
   "execution_count": 2,
   "metadata": {
    "colab": {
     "base_uri": "https://localhost:8080/"
    },
    "executionInfo": {
     "elapsed": 161,
     "status": "ok",
     "timestamp": 1646258873681,
     "user": {
      "displayName": "Ty Painter",
      "photoUrl": "https://lh3.googleusercontent.com/a/default-user=s64",
      "userId": "04234853017868576860"
     },
     "user_tz": 360
    },
    "id": "LCtQj0edJ1Z5",
    "outputId": "63f67929-f980-4502-de4b-6e65d1dfc782"
   },
   "outputs": [
    {
     "name": "stdout",
     "output_type": "stream",
     "text": [
      "[[{'label': 'positive', 'score': 0.007278284523636103}, {'label': 'negative', 'score': 0.9713515043258667}, {'label': 'neutral', 'score': 0.021370237693190575}]]\n"
     ]
    }
   ],
   "source": [
    "output = query(\"Tesla's stock decreased by 20% today!\")\n",
    "print(output)"
   ]
  },
  {
   "cell_type": "code",
   "execution_count": 3,
   "metadata": {
    "colab": {
     "base_uri": "https://localhost:8080/"
    },
    "executionInfo": {
     "elapsed": 8,
     "status": "ok",
     "timestamp": 1646258873682,
     "user": {
      "displayName": "Ty Painter",
      "photoUrl": "https://lh3.googleusercontent.com/a/default-user=s64",
      "userId": "04234853017868576860"
     },
     "user_tz": 360
    },
    "id": "CuIpbtAu_ODu",
    "outputId": "ae42bca7-ea30-46a0-f6e2-ee69cad5a6cb"
   },
   "outputs": [
    {
     "name": "stdout",
     "output_type": "stream",
     "text": [
      "Top label: positive\n",
      "Top score: 0.007278284523636103\n"
     ]
    }
   ],
   "source": [
    "print(\"Top label:\", output[0][0][\"label\"]) \n",
    "print(\"Top score:\", output[0][0][\"score\"])"
   ]
  },
  {
   "cell_type": "code",
   "execution_count": 4,
   "metadata": {
    "colab": {
     "base_uri": "https://localhost:8080/"
    },
    "executionInfo": {
     "elapsed": 166,
     "status": "ok",
     "timestamp": 1646258873843,
     "user": {
      "displayName": "Ty Painter",
      "photoUrl": "https://lh3.googleusercontent.com/a/default-user=s64",
      "userId": "04234853017868576860"
     },
     "user_tz": 360
    },
    "id": "EJod2FoJEaEn",
    "outputId": "f5ed534f-1b9f-4731-8012-de17ee00b1a9"
   },
   "outputs": [
    {
     "name": "stdout",
     "output_type": "stream",
     "text": [
      "[[{'label': 'positive', 'score': 0.009376470930874348}, {'label': 'negative', 'score': 0.9630967378616333}, {'label': 'neutral', 'score': 0.02752690762281418}]]\n",
      "Top label: positive\n",
      "Top score: 0.009376470930874348\n"
     ]
    }
   ],
   "source": [
    "output = query(\"Tesla's stock crashed by 20% today!\")\n",
    "print(output)\n",
    "print(\"Top label:\", output[0][0][\"label\"]) \n",
    "print(\"Top score:\", output[0][0][\"score\"])"
   ]
  }
 ],
 "metadata": {
  "colab": {
   "authorship_tag": "ABX9TyOAckm5JEq5SQlKSmLQlOUI",
   "name": "finBert",
   "provenance": []
  },
  "kernelspec": {
   "display_name": "Python 3",
   "language": "python",
   "name": "python3"
  },
  "language_info": {
   "codemirror_mode": {
    "name": "ipython",
    "version": 3
   },
   "file_extension": ".py",
   "mimetype": "text/x-python",
   "name": "python",
   "nbconvert_exporter": "python",
   "pygments_lexer": "ipython3",
   "version": "3.8.3"
  },
  "toc": {
   "base_numbering": 1,
   "nav_menu": {},
   "number_sections": false,
   "sideBar": true,
   "skip_h1_title": true,
   "title_cell": "Table of Contents",
   "title_sidebar": "Contents",
   "toc_cell": true,
   "toc_position": {},
   "toc_section_display": true,
   "toc_window_display": true
  }
 },
 "nbformat": 4,
 "nbformat_minor": 1
}
