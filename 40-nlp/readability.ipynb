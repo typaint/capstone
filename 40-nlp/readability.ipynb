{
 "cells": [
  {
   "cell_type": "markdown",
   "id": "5892e172",
   "metadata": {
    "toc": true
   },
   "source": [
    "<h1>Table of Contents<span class=\"tocSkip\"></span></h1>\n",
    "<div class=\"toc\"><ul class=\"toc-item\"><li><span><a href=\"#Readability-Package\" data-toc-modified-id=\"Readability-Package-1\">Readability Package</a></span></li><li><span><a href=\"#Example\" data-toc-modified-id=\"Example-2\">Example</a></span><ul class=\"toc-item\"><li><span><a href=\"#Yahoo\" data-toc-modified-id=\"Yahoo-2.1\">Yahoo</a></span></li><li><span><a href=\"#MarketWatch\" data-toc-modified-id=\"MarketWatch-2.2\">MarketWatch</a></span></li><li><span><a href=\"#Prnewswire\" data-toc-modified-id=\"Prnewswire-2.3\">Prnewswire</a></span></li></ul></li></ul></div>"
   ]
  },
  {
   "cell_type": "markdown",
   "id": "894f29be",
   "metadata": {},
   "source": [
    "## Readability Package"
   ]
  },
  {
   "cell_type": "code",
   "execution_count": 32,
   "id": "0c3f08ee",
   "metadata": {},
   "outputs": [
    {
     "name": "stdout",
     "output_type": "stream",
     "text": [
      "Collecting https://github.com/andreasvc/readability/tarball/master\n",
      "  Using cached https://github.com/andreasvc/readability/tarball/master\n"
     ]
    }
   ],
   "source": [
    "! pip install https://github.com/andreasvc/readability/tarball/master"
   ]
  },
  {
   "cell_type": "code",
   "execution_count": 33,
   "id": "32f5276d",
   "metadata": {},
   "outputs": [
    {
     "name": "stdout",
     "output_type": "stream",
     "text": [
      "55.95250000000002\n"
     ]
    }
   ],
   "source": [
    "import readability\n",
    "text = ('This is an example sentence .\\n'\n",
    "        'Note that tokens are separated by spaces and sentences by newlines .\\n')\n",
    "results = readability.getmeasures(text, lang='en')\n",
    "print(results['readability grades']['FleschReadingEase'])"
   ]
  },
  {
   "cell_type": "code",
   "execution_count": 34,
   "id": "a5a5a5a5",
   "metadata": {
    "scrolled": true
   },
   "outputs": [
    {
     "data": {
      "text/plain": [
       "OrderedDict([('readability grades',\n",
       "              OrderedDict([('Kincaid', 7.442500000000003),\n",
       "                           ('ARI', 5.825624999999999),\n",
       "                           ('Coleman-Liau', 9.532550312500003),\n",
       "                           ('FleschReadingEase', 55.95250000000002),\n",
       "                           ('GunningFogIndex', 10.700000000000001),\n",
       "                           ('LIX', 39.25),\n",
       "                           ('SMOGIndex', 9.70820393249937),\n",
       "                           ('RIX', 2.5),\n",
       "                           ('DaleChallIndex', 9.954550000000001)])),\n",
       "             ('sentence info',\n",
       "              OrderedDict([('characters_per_word', 4.9375),\n",
       "                           ('syll_per_word', 1.6875),\n",
       "                           ('words_per_sentence', 8.0),\n",
       "                           ('sentences_per_paragraph', 2.0),\n",
       "                           ('type_token_ratio', 0.9375),\n",
       "                           ('characters', 79),\n",
       "                           ('syllables', 27),\n",
       "                           ('words', 16),\n",
       "                           ('wordtypes', 15),\n",
       "                           ('sentences', 2),\n",
       "                           ('paragraphs', 1),\n",
       "                           ('long_words', 5),\n",
       "                           ('complex_words', 3),\n",
       "                           ('complex_words_dc', 6)])),\n",
       "             ('word usage',\n",
       "              OrderedDict([('tobeverb', 2),\n",
       "                           ('auxverb', 0),\n",
       "                           ('conjunction', 1),\n",
       "                           ('pronoun', 2),\n",
       "                           ('preposition', 2),\n",
       "                           ('nominalization', 1)])),\n",
       "             ('sentence beginnings',\n",
       "              OrderedDict([('pronoun', 1),\n",
       "                           ('interrogative', 0),\n",
       "                           ('article', 0),\n",
       "                           ('subordination', 0),\n",
       "                           ('conjunction', 0),\n",
       "                           ('preposition', 0)]))])"
      ]
     },
     "execution_count": 34,
     "metadata": {},
     "output_type": "execute_result"
    }
   ],
   "source": [
    "results"
   ]
  },
  {
   "cell_type": "markdown",
   "id": "4bb48445",
   "metadata": {},
   "source": [
    "## Example"
   ]
  },
  {
   "cell_type": "code",
   "execution_count": 35,
   "id": "4508be0e",
   "metadata": {},
   "outputs": [],
   "source": [
    "from bs4 import BeautifulSoup\n",
    "import requests\n",
    "import re"
   ]
  },
  {
   "cell_type": "markdown",
   "id": "1a3d059c",
   "metadata": {},
   "source": [
    "### Yahoo"
   ]
  },
  {
   "cell_type": "code",
   "execution_count": 36,
   "id": "9d6bacd2",
   "metadata": {},
   "outputs": [],
   "source": [
    "URL = \"https://finance.yahoo.com/news/fintech-stocks-fall-amid-report-of-apples-financial-services-plans-201032568.html\"\n",
    "def yahoo_article(URL):\n",
    "    nf = \"Content is currently unavailable\"\n",
    "    page = requests.get(URL,headers={'User-Agent': 'Mozilla/5.0 (Macintosh; Intel Mac OS X 10_13_4) AppleWebKit/537.36 (KHTML, like Gecko) Chrome/35.0.1916.47 Safari/537.36'})\n",
    "    soup = BeautifulSoup(page.content, \"html.parser\")\n",
    "    if nf in soup.prettify():\n",
    "        pass\n",
    "    try:\n",
    "        try:\n",
    "            master = soup.find(id=\"Masterwrap\")\n",
    "            final = master.find(\"div\", class_=\"caas-body\")\n",
    "        except AttributeError:\n",
    "            master = soup.find(id=\"Masterwrap2Col\")\n",
    "            final = master.find(\"div\", class_=\"caas-body\")\n",
    "    except AttributeError:\n",
    "        pass\n",
    "    text = re.sub('(<p>)', ' ', str(final))\n",
    "    text = re.sub('<[^>]+>', '', str(text))\n",
    "    sen_list = text.split(\". \")\n",
    "    article = [\".\\n \".join(sen_list[:-2])][0] # remove author signature\n",
    "\n",
    "    return(article)"
   ]
  },
  {
   "cell_type": "code",
   "execution_count": 37,
   "id": "870f090a",
   "metadata": {},
   "outputs": [
    {
     "data": {
      "text/plain": [
       "\" Block (SQ), PayPal (PYPL), Marqeta (MQ) Visa (V), and other payment companies' shares fell on Wednesday afternoon after Bloomberg reported Apple (AAPL) is working on a plan dubbed “Breakout” aimed at bringing financial services in-house.\\n The report states the tech giant is building a payment processing technology and infrastructure as part of an effort to decrease its dependence on outside partners.\\n The strategy is aimed at future financial products instead of existing ones.\\n Shares of Block, formally known as Square, fell by more than 4% an hour before the closing bell on Wednesday.\\n PayPal shares were down about 2%.\\n Visa and Global Payments (GNP) was also lower.Payment companies stock price action on March 30, 2022 The reported plan would expand Apple's pretense into the financial services industry.\\n The Cupertino, California–based company has been growing its services businesses.\\n The tech giant already offers an Apple Card in connection with Goldman Sachs.\\n It also runs Apple Pay and a peer-to-peer payment service.\\n Apple Pay is available in around 70 countries, while the Apple Card and the company's peer-to-peer payment features are only accessible in the U.S.\\n Fintech companies have been volatile along with the broader markets over the past several months amid higher interest rates and rising inflation.\\n Marqeta (MQ) is down 38% since the beginning of January.\\n Affirm (AFRM) is down 53% year-to-date, while PayPal is down 37% since the start of the year\""
      ]
     },
     "execution_count": 37,
     "metadata": {},
     "output_type": "execute_result"
    }
   ],
   "source": [
    "article = yahoo_article(URL)\n",
    "article"
   ]
  },
  {
   "cell_type": "code",
   "execution_count": 38,
   "id": "210f83b4",
   "metadata": {
    "scrolled": true
   },
   "outputs": [
    {
     "data": {
      "text/plain": [
       "OrderedDict([('readability grades',\n",
       "              OrderedDict([('Kincaid', 9.101260504201683),\n",
       "                           ('ARI', 11.293636069812543),\n",
       "                           ('Coleman-Liau', 12.007044323529414),\n",
       "                           ('FleschReadingEase', 62.419078862314166),\n",
       "                           ('GunningFogIndex', 13.373497091144152),\n",
       "                           ('LIX', 47.29928894634777),\n",
       "                           ('SMOGIndex', 12.114654303753),\n",
       "                           ('RIX', 5.3076923076923075),\n",
       "                           ('DaleChallIndex', 11.179015319974145)])),\n",
       "             ('sentence info',\n",
       "              OrderedDict([('characters_per_word', 5.004201680672269),\n",
       "                           ('syll_per_word', 1.4873949579831933),\n",
       "                           ('words_per_sentence', 18.307692307692307),\n",
       "                           ('sentences_per_paragraph', 13.0),\n",
       "                           ('type_token_ratio', 0.6512605042016807),\n",
       "                           ('characters', 1191),\n",
       "                           ('syllables', 354),\n",
       "                           ('words', 238),\n",
       "                           ('wordtypes', 155),\n",
       "                           ('sentences', 13),\n",
       "                           ('paragraphs', 1),\n",
       "                           ('long_words', 69),\n",
       "                           ('complex_words', 36),\n",
       "                           ('complex_words_dc', 100)])),\n",
       "             ('word usage',\n",
       "              OrderedDict([('tobeverb', 12),\n",
       "                           ('auxverb', 1),\n",
       "                           ('conjunction', 6),\n",
       "                           ('pronoun', 3),\n",
       "                           ('preposition', 38),\n",
       "                           ('nominalization', 8)])),\n",
       "             ('sentence beginnings',\n",
       "              OrderedDict([('pronoun', 0),\n",
       "                           ('interrogative', 0),\n",
       "                           ('article', 0),\n",
       "                           ('subordination', 0),\n",
       "                           ('conjunction', 0),\n",
       "                           ('preposition', 0)]))])"
      ]
     },
     "execution_count": 38,
     "metadata": {},
     "output_type": "execute_result"
    }
   ],
   "source": [
    "results = readability.getmeasures(article, lang='en')\n",
    "results"
   ]
  },
  {
   "cell_type": "code",
   "execution_count": 39,
   "id": "3dc1eb0a",
   "metadata": {},
   "outputs": [],
   "source": [
    "import pandas as pd"
   ]
  },
  {
   "cell_type": "code",
   "execution_count": 40,
   "id": "32a4e070",
   "metadata": {},
   "outputs": [
    {
     "data": {
      "text/plain": [
       "['Kincaid',\n",
       " 'ARI',\n",
       " 'Coleman-Liau',\n",
       " 'FleschReadingEase',\n",
       " 'GunningFogIndex',\n",
       " 'LIX',\n",
       " 'SMOGIndex',\n",
       " 'RIX',\n",
       " 'DaleChallIndex']"
      ]
     },
     "execution_count": 40,
     "metadata": {},
     "output_type": "execute_result"
    }
   ],
   "source": [
    "cols = list(results['readability grades'])\n",
    "cols"
   ]
  },
  {
   "cell_type": "code",
   "execution_count": 41,
   "id": "48c837ad",
   "metadata": {},
   "outputs": [],
   "source": [
    "import numpy as np"
   ]
  },
  {
   "cell_type": "code",
   "execution_count": 42,
   "id": "d5c95b03",
   "metadata": {},
   "outputs": [
    {
     "data": {
      "text/plain": [
       "array([[ 9.1012605 , 11.29363607, 12.00704432, 62.41907886, 13.37349709,\n",
       "        47.29928895, 12.1146543 ,  5.30769231, 11.17901532]])"
      ]
     },
     "execution_count": 42,
     "metadata": {},
     "output_type": "execute_result"
    }
   ],
   "source": [
    "vals = list(results['readability grades'].values())\n",
    "vals =[[val] for val in vals]\n",
    "vals = np.asarray(vals).T\n",
    "vals"
   ]
  },
  {
   "cell_type": "code",
   "execution_count": 43,
   "id": "8f996b79",
   "metadata": {},
   "outputs": [
    {
     "data": {
      "text/html": [
       "<div>\n",
       "<style scoped>\n",
       "    .dataframe tbody tr th:only-of-type {\n",
       "        vertical-align: middle;\n",
       "    }\n",
       "\n",
       "    .dataframe tbody tr th {\n",
       "        vertical-align: top;\n",
       "    }\n",
       "\n",
       "    .dataframe thead th {\n",
       "        text-align: right;\n",
       "    }\n",
       "</style>\n",
       "<table border=\"1\" class=\"dataframe\">\n",
       "  <thead>\n",
       "    <tr style=\"text-align: right;\">\n",
       "      <th></th>\n",
       "      <th>Kincaid</th>\n",
       "      <th>ARI</th>\n",
       "      <th>Coleman-Liau</th>\n",
       "      <th>FleschReadingEase</th>\n",
       "      <th>GunningFogIndex</th>\n",
       "      <th>LIX</th>\n",
       "      <th>SMOGIndex</th>\n",
       "      <th>RIX</th>\n",
       "      <th>DaleChallIndex</th>\n",
       "    </tr>\n",
       "  </thead>\n",
       "  <tbody>\n",
       "    <tr>\n",
       "      <th>0</th>\n",
       "      <td>9.101261</td>\n",
       "      <td>11.293636</td>\n",
       "      <td>12.007044</td>\n",
       "      <td>62.419079</td>\n",
       "      <td>13.373497</td>\n",
       "      <td>47.299289</td>\n",
       "      <td>12.114654</td>\n",
       "      <td>5.307692</td>\n",
       "      <td>11.179015</td>\n",
       "    </tr>\n",
       "  </tbody>\n",
       "</table>\n",
       "</div>"
      ],
      "text/plain": [
       "    Kincaid        ARI  Coleman-Liau  FleschReadingEase  GunningFogIndex  \\\n",
       "0  9.101261  11.293636     12.007044          62.419079        13.373497   \n",
       "\n",
       "         LIX  SMOGIndex       RIX  DaleChallIndex  \n",
       "0  47.299289  12.114654  5.307692       11.179015  "
      ]
     },
     "execution_count": 43,
     "metadata": {},
     "output_type": "execute_result"
    }
   ],
   "source": [
    "pd.DataFrame(data=vals,columns=cols)"
   ]
  },
  {
   "cell_type": "code",
   "execution_count": 44,
   "id": "f92a37ff",
   "metadata": {},
   "outputs": [],
   "source": [
    "def read_grades(article):\n",
    "    results = readability.getmeasures(article, lang='en')\n",
    "    cols = list(results['readability grades'])\n",
    "    vals = list(results['readability grades'].values())\n",
    "    vals =[[val] for val in vals]\n",
    "    vals = np.asarray(vals).T\n",
    "    scores = pd.DataFrame(data=vals,columns=cols)\n",
    "    return(scores)"
   ]
  },
  {
   "cell_type": "code",
   "execution_count": 45,
   "id": "eca4527b",
   "metadata": {},
   "outputs": [
    {
     "data": {
      "text/html": [
       "<div>\n",
       "<style scoped>\n",
       "    .dataframe tbody tr th:only-of-type {\n",
       "        vertical-align: middle;\n",
       "    }\n",
       "\n",
       "    .dataframe tbody tr th {\n",
       "        vertical-align: top;\n",
       "    }\n",
       "\n",
       "    .dataframe thead th {\n",
       "        text-align: right;\n",
       "    }\n",
       "</style>\n",
       "<table border=\"1\" class=\"dataframe\">\n",
       "  <thead>\n",
       "    <tr style=\"text-align: right;\">\n",
       "      <th></th>\n",
       "      <th>Kincaid</th>\n",
       "      <th>ARI</th>\n",
       "      <th>Coleman-Liau</th>\n",
       "      <th>FleschReadingEase</th>\n",
       "      <th>GunningFogIndex</th>\n",
       "      <th>LIX</th>\n",
       "      <th>SMOGIndex</th>\n",
       "      <th>RIX</th>\n",
       "      <th>DaleChallIndex</th>\n",
       "    </tr>\n",
       "  </thead>\n",
       "  <tbody>\n",
       "    <tr>\n",
       "      <th>0</th>\n",
       "      <td>9.101261</td>\n",
       "      <td>11.293636</td>\n",
       "      <td>12.007044</td>\n",
       "      <td>62.419079</td>\n",
       "      <td>13.373497</td>\n",
       "      <td>47.299289</td>\n",
       "      <td>12.114654</td>\n",
       "      <td>5.307692</td>\n",
       "      <td>11.179015</td>\n",
       "    </tr>\n",
       "  </tbody>\n",
       "</table>\n",
       "</div>"
      ],
      "text/plain": [
       "    Kincaid        ARI  Coleman-Liau  FleschReadingEase  GunningFogIndex  \\\n",
       "0  9.101261  11.293636     12.007044          62.419079        13.373497   \n",
       "\n",
       "         LIX  SMOGIndex       RIX  DaleChallIndex  \n",
       "0  47.299289  12.114654  5.307692       11.179015  "
      ]
     },
     "execution_count": 45,
     "metadata": {},
     "output_type": "execute_result"
    }
   ],
   "source": [
    "text = article\n",
    "read_grades(text)"
   ]
  },
  {
   "cell_type": "code",
   "execution_count": 46,
   "id": "9ba50a2e",
   "metadata": {},
   "outputs": [
    {
     "data": {
      "text/html": [
       "<div>\n",
       "<style scoped>\n",
       "    .dataframe tbody tr th:only-of-type {\n",
       "        vertical-align: middle;\n",
       "    }\n",
       "\n",
       "    .dataframe tbody tr th {\n",
       "        vertical-align: top;\n",
       "    }\n",
       "\n",
       "    .dataframe thead th {\n",
       "        text-align: right;\n",
       "    }\n",
       "</style>\n",
       "<table border=\"1\" class=\"dataframe\">\n",
       "  <thead>\n",
       "    <tr style=\"text-align: right;\">\n",
       "      <th></th>\n",
       "      <th>Kincaid</th>\n",
       "      <th>ARI</th>\n",
       "      <th>Coleman-Liau</th>\n",
       "      <th>FleschReadingEase</th>\n",
       "      <th>GunningFogIndex</th>\n",
       "      <th>LIX</th>\n",
       "      <th>SMOGIndex</th>\n",
       "      <th>RIX</th>\n",
       "      <th>DaleChallIndex</th>\n",
       "    </tr>\n",
       "  </thead>\n",
       "  <tbody>\n",
       "    <tr>\n",
       "      <th>0</th>\n",
       "      <td>9.101261</td>\n",
       "      <td>11.293636</td>\n",
       "      <td>12.007044</td>\n",
       "      <td>62.419079</td>\n",
       "      <td>13.373497</td>\n",
       "      <td>47.299289</td>\n",
       "      <td>12.114654</td>\n",
       "      <td>5.307692</td>\n",
       "      <td>11.179015</td>\n",
       "    </tr>\n",
       "    <tr>\n",
       "      <th>0</th>\n",
       "      <td>9.101261</td>\n",
       "      <td>11.293636</td>\n",
       "      <td>12.007044</td>\n",
       "      <td>62.419079</td>\n",
       "      <td>13.373497</td>\n",
       "      <td>47.299289</td>\n",
       "      <td>12.114654</td>\n",
       "      <td>5.307692</td>\n",
       "      <td>11.179015</td>\n",
       "    </tr>\n",
       "  </tbody>\n",
       "</table>\n",
       "</div>"
      ],
      "text/plain": [
       "    Kincaid        ARI  Coleman-Liau  FleschReadingEase  GunningFogIndex  \\\n",
       "0  9.101261  11.293636     12.007044          62.419079        13.373497   \n",
       "0  9.101261  11.293636     12.007044          62.419079        13.373497   \n",
       "\n",
       "         LIX  SMOGIndex       RIX  DaleChallIndex  \n",
       "0  47.299289  12.114654  5.307692       11.179015  \n",
       "0  47.299289  12.114654  5.307692       11.179015  "
      ]
     },
     "execution_count": 46,
     "metadata": {},
     "output_type": "execute_result"
    }
   ],
   "source": [
    "score_df = read_grades(text)\n",
    "score_df.append(read_grades(text))"
   ]
  },
  {
   "cell_type": "code",
   "execution_count": 47,
   "id": "e837d2d7",
   "metadata": {},
   "outputs": [],
   "source": [
    "results = readability.getmeasures(text, lang='en')"
   ]
  },
  {
   "cell_type": "code",
   "execution_count": 50,
   "id": "c5edc2fa",
   "metadata": {},
   "outputs": [],
   "source": [
    "def sentence_info(text):\n",
    "    results = readability.getmeasures(text, lang='en')\n",
    "    cols = list(results['sentence info'])\n",
    "    idx = [7,-2]\n",
    "    cols = [cols[i] for i in idx]\n",
    "    vals = list(results['sentence info'].values())\n",
    "    vals = [[vals[i]] for i in idx]\n",
    "    vals = np.asarray(vals).T\n",
    "    scores = pd.DataFrame(data=vals,columns=cols)\n",
    "    return(scores)"
   ]
  },
  {
   "cell_type": "code",
   "execution_count": 51,
   "id": "2a443207",
   "metadata": {},
   "outputs": [
    {
     "data": {
      "text/html": [
       "<div>\n",
       "<style scoped>\n",
       "    .dataframe tbody tr th:only-of-type {\n",
       "        vertical-align: middle;\n",
       "    }\n",
       "\n",
       "    .dataframe tbody tr th {\n",
       "        vertical-align: top;\n",
       "    }\n",
       "\n",
       "    .dataframe thead th {\n",
       "        text-align: right;\n",
       "    }\n",
       "</style>\n",
       "<table border=\"1\" class=\"dataframe\">\n",
       "  <thead>\n",
       "    <tr style=\"text-align: right;\">\n",
       "      <th></th>\n",
       "      <th>words</th>\n",
       "      <th>complex_words</th>\n",
       "    </tr>\n",
       "  </thead>\n",
       "  <tbody>\n",
       "    <tr>\n",
       "      <th>0</th>\n",
       "      <td>238</td>\n",
       "      <td>36</td>\n",
       "    </tr>\n",
       "  </tbody>\n",
       "</table>\n",
       "</div>"
      ],
      "text/plain": [
       "   words  complex_words\n",
       "0    238             36"
      ]
     },
     "execution_count": 51,
     "metadata": {},
     "output_type": "execute_result"
    }
   ],
   "source": [
    "sentence_info(text)"
   ]
  },
  {
   "cell_type": "code",
   "execution_count": 19,
   "id": "65a8dede",
   "metadata": {},
   "outputs": [
    {
     "data": {
      "text/html": [
       "<div>\n",
       "<style scoped>\n",
       "    .dataframe tbody tr th:only-of-type {\n",
       "        vertical-align: middle;\n",
       "    }\n",
       "\n",
       "    .dataframe tbody tr th {\n",
       "        vertical-align: top;\n",
       "    }\n",
       "\n",
       "    .dataframe thead th {\n",
       "        text-align: right;\n",
       "    }\n",
       "</style>\n",
       "<table border=\"1\" class=\"dataframe\">\n",
       "  <thead>\n",
       "    <tr style=\"text-align: right;\">\n",
       "      <th></th>\n",
       "      <th>Kincaid</th>\n",
       "      <th>ARI</th>\n",
       "      <th>Coleman-Liau</th>\n",
       "      <th>FleschReadingEase</th>\n",
       "      <th>GunningFogIndex</th>\n",
       "      <th>LIX</th>\n",
       "      <th>SMOGIndex</th>\n",
       "      <th>RIX</th>\n",
       "      <th>DaleChallIndex</th>\n",
       "      <th>words</th>\n",
       "      <th>complex_words</th>\n",
       "    </tr>\n",
       "  </thead>\n",
       "  <tbody>\n",
       "    <tr>\n",
       "      <th>0</th>\n",
       "      <td>9.101261</td>\n",
       "      <td>11.293636</td>\n",
       "      <td>12.007044</td>\n",
       "      <td>62.419079</td>\n",
       "      <td>13.373497</td>\n",
       "      <td>47.299289</td>\n",
       "      <td>12.114654</td>\n",
       "      <td>5.307692</td>\n",
       "      <td>11.179015</td>\n",
       "      <td>238</td>\n",
       "      <td>36</td>\n",
       "    </tr>\n",
       "  </tbody>\n",
       "</table>\n",
       "</div>"
      ],
      "text/plain": [
       "    Kincaid        ARI  Coleman-Liau  FleschReadingEase  GunningFogIndex  \\\n",
       "0  9.101261  11.293636     12.007044          62.419079        13.373497   \n",
       "\n",
       "         LIX  SMOGIndex       RIX  DaleChallIndex  words  complex_words  \n",
       "0  47.299289  12.114654  5.307692       11.179015    238             36  "
      ]
     },
     "execution_count": 19,
     "metadata": {},
     "output_type": "execute_result"
    }
   ],
   "source": [
    "pd.concat([read_grades(text),sentence_info(text)], axis=1)"
   ]
  },
  {
   "cell_type": "markdown",
   "id": "5205e7ec",
   "metadata": {},
   "source": [
    "### MarketWatch"
   ]
  },
  {
   "cell_type": "code",
   "execution_count": 55,
   "id": "b8a7af8e",
   "metadata": {},
   "outputs": [],
   "source": [
    "URL = \"https://www.marketwatch.com/story/trump-extends-pandemic-related-bans-on-green-cards-work-visas-through-march-31-01609458532\"\n",
    "def mwatch_article(URL):\n",
    "    nf = \"Story not found\"\n",
    "    page = requests.get(URL,headers={'User-Agent': 'Mozilla/5.0 (Macintosh; Intel Mac OS X 10_13_4) AppleWebKit/537.36 (KHTML, like Gecko) Chrome/35.0.1916.47 Safari/537.36'})\n",
    "    soup = BeautifulSoup(page.content, \"html.parser\")\n",
    "    if nf in soup.prettify():\n",
    "        pass\n",
    "    try:\n",
    "        master = soup.find(id=\"maincontent\")\n",
    "        final = master.find(\"div\", class_=\"article__body article-wrap at16-col16 barrons-article-wrap\")\n",
    "        text = final.text.strip()\n",
    "    except AttributeError:\n",
    "        pass\n",
    "    sen_list = text.split(\". \")\n",
    "    article = [\".\\n \".join(sen_list)][0]\n",
    "    return(article)"
   ]
  },
  {
   "cell_type": "code",
   "execution_count": 56,
   "id": "2e51ded3",
   "metadata": {},
   "outputs": [],
   "source": [
    "text = mwatch_article(URL)"
   ]
  },
  {
   "cell_type": "code",
   "execution_count": 57,
   "id": "f01c2a6c",
   "metadata": {},
   "outputs": [
    {
     "data": {
      "text/plain": [
       "'WASHINGTON — President Donald Trump on Thursday extended pandemic-related bans on issuing green cards and work visas to large groups of applicants outside the United States through March 31.\\n Federal judges limited the impact but the bans, however short-lived, significantly tightened legal immigration, a goal that had eluded Trump before the coronavirus struck.\\n They had been set to expire Thursday.\\n\\nAn extension is consistent with Trump’s hardline stance on immigration and passes on the decision over when and whether to lift the bans to President-elect Joe Biden, who takes office Jan.\\n 20.\\n Biden’s immigration platform doesn’t specifically address the issue.\\n In April,\\xa0Trump imposed a ban on green cards issued abroad that largely targets family members of people already in the United States.\\n After a surprisingly chilly reception from immigration hawks, the administration\\xa0went much further in June\\xa0by adding H-1B visas, which are widely used by American and Indian technology company workers and their families; H-2B visas for nonagricultural seasonal workers; J-1 visas for cultural exchanges; and L-1 visas for managers and other key employees of multinational corporations.\\n Trump said the measures would protect American jobs in a pandemic-wracked economy, while business groups said they would hamper a recovery.\\n By contrast, the administration’s edict to immediately expel asylum-seekers and others who cross the border illegally from Mexico was justified on grounds of containing the coronavirus, though reporting by The Associated Press and others found that government scientists saw no evidence for it.\\n A temporary ban on non-essential travel across the Mexican and Canadian borders was also done for public health.\\n In October, U.S.\\n District Judge Jeffrey White of San Francisco, who was appointed by President George W.\\n Bush, ruled that the work-visa ban could not be enforced against groups that sued and their members, who represent much of the U.S.\\n economy: the U.S.\\n Chamber of Commerce, the National Association of Manufacturers, the National Retail Federation, technology industry group TechNet and Intrax Inc., which manages cultural exchange programs.\\n In December, U.S.\\n District Judge Edward Chen of Oakland, California, an appointee of President Barack Obama, prevented the green-card ban from taking effect against families of 181 U.S.\\n citizens and legal residents who sued.'"
      ]
     },
     "execution_count": 57,
     "metadata": {},
     "output_type": "execute_result"
    }
   ],
   "source": [
    "text"
   ]
  },
  {
   "cell_type": "code",
   "execution_count": 58,
   "id": "99f48751",
   "metadata": {},
   "outputs": [
    {
     "data": {
      "text/html": [
       "<div>\n",
       "<style scoped>\n",
       "    .dataframe tbody tr th:only-of-type {\n",
       "        vertical-align: middle;\n",
       "    }\n",
       "\n",
       "    .dataframe tbody tr th {\n",
       "        vertical-align: top;\n",
       "    }\n",
       "\n",
       "    .dataframe thead th {\n",
       "        text-align: right;\n",
       "    }\n",
       "</style>\n",
       "<table border=\"1\" class=\"dataframe\">\n",
       "  <thead>\n",
       "    <tr style=\"text-align: right;\">\n",
       "      <th></th>\n",
       "      <th>Kincaid</th>\n",
       "      <th>ARI</th>\n",
       "      <th>Coleman-Liau</th>\n",
       "      <th>FleschReadingEase</th>\n",
       "      <th>GunningFogIndex</th>\n",
       "      <th>LIX</th>\n",
       "      <th>SMOGIndex</th>\n",
       "      <th>RIX</th>\n",
       "      <th>DaleChallIndex</th>\n",
       "      <th>words</th>\n",
       "      <th>complex_words</th>\n",
       "    </tr>\n",
       "  </thead>\n",
       "  <tbody>\n",
       "    <tr>\n",
       "      <th>0</th>\n",
       "      <td>11.682034</td>\n",
       "      <td>13.549896</td>\n",
       "      <td>14.192672</td>\n",
       "      <td>45.992994</td>\n",
       "      <td>14.816501</td>\n",
       "      <td>51.095306</td>\n",
       "      <td>13.130725</td>\n",
       "      <td>6.157895</td>\n",
       "      <td>12.54007</td>\n",
       "      <td>370</td>\n",
       "      <td>65</td>\n",
       "    </tr>\n",
       "  </tbody>\n",
       "</table>\n",
       "</div>"
      ],
      "text/plain": [
       "     Kincaid        ARI  Coleman-Liau  FleschReadingEase  GunningFogIndex  \\\n",
       "0  11.682034  13.549896     14.192672          45.992994        14.816501   \n",
       "\n",
       "         LIX  SMOGIndex       RIX  DaleChallIndex  words  complex_words  \n",
       "0  51.095306  13.130725  6.157895        12.54007    370             65  "
      ]
     },
     "execution_count": 58,
     "metadata": {},
     "output_type": "execute_result"
    }
   ],
   "source": [
    "pd.concat([read_grades(text),sentence_info(text)], axis=1)"
   ]
  },
  {
   "cell_type": "markdown",
   "id": "4c9831c7",
   "metadata": {},
   "source": [
    "### Prnewswire"
   ]
  },
  {
   "cell_type": "code",
   "execution_count": 60,
   "id": "cdc548a7",
   "metadata": {
    "scrolled": false
   },
   "outputs": [],
   "source": [
    "URL = \"https://www.prnewswire.com:443/news-releases/burj-khalifa-and-downtown-dubai-bring-in-2021-with-a-spectacular-new-years-eve-celebration-301199812.html\"\n",
    "def prnw_article(URL):\n",
    "    page = requests.get(URL,headers={'User-Agent': 'Mozilla/5.0 (Macintosh; Intel Mac OS X 10_13_4) AppleWebKit/537.36 (KHTML, like Gecko) Chrome/35.0.1916.47 Safari/537.36'})\n",
    "    soup = BeautifulSoup(page.content, \"html.parser\")\n",
    "    try:\n",
    "        master = soup.find(id=\"main\")\n",
    "        #final = master.find(\"div\", class_=\"col-sm-10 col-sm-offset-1\")\n",
    "        final = master.find_all(\"div\", class_=\"col-sm-10 col-sm-offset-1\")\n",
    "    except AttributeError:\n",
    "        pass\n",
    "    try:\n",
    "        paragraphs = []\n",
    "        for wrapper in final:\n",
    "            paragraphs.append(wrapper.text.strip())\n",
    "            text = [\" \".join(paragraphs)][0]\n",
    "    except:\n",
    "        pass\n",
    "    sen_list = text.split(\". \")\n",
    "    article = [\".\\n \".join(sen_list)][0]\n",
    "    return(article)"
   ]
  },
  {
   "cell_type": "code",
   "execution_count": 61,
   "id": "ff216c61",
   "metadata": {},
   "outputs": [],
   "source": [
    "text = prnw_article(URL)"
   ]
  },
  {
   "cell_type": "code",
   "execution_count": 62,
   "id": "88fd5489",
   "metadata": {},
   "outputs": [
    {
     "data": {
      "text/plain": [
       "'Emaar celebrates togetherness with New Year\\'s messages from all over the world screened on Burj KhalifaDUBAI, United Arab Emirates, Dec.\\n 31, 2020 /PRNewswire/ --\\xa0Emaar, the master developer of the Burj Khalifa, has celebrated New Year\\'s Eve with a spectacular fireworks, animation, laser and light to ring in 2021.\\n The dazzling display celebrated the theme of \\'togetherness\\', the UAE\\'s success and achievements, and paid tribute to the frontline heroes of 2020.\\n Emaar celebrated New Year’s Eve in Dubai with a spectacular fireworks, animation, laser and light to ring in 2021.\\n The dazzling display celebrated the theme of ‘togetherness’, the UAE’s success and achievements, and paid tribute to the frontline heroes of 2020.\\n In an Emaar first, the Burj Khalifa shared New Year’s Eve celebrations from around the world and invited global audiences to join virtually through a partnership with Zoom and live streams on YouTube and other social media channels.\\n The breathtaking fireworks display, perfectly timed to the show on the facade of the Burj Khalifa, was complemented by dazzling lights and lasers, all synchronised to The Dubai Fountain show, leaving global watchers enthralled both on and offline.\\n Commenting on the spectacular New Year\\'s Eve in Downtown Dubai, Mohamed Alabbar, Founder of Emaar, said: \"Emaar is proud to celebrate world class experiences and this year, despite the challenges we have all faced as a global community, was no different.\\n In a theme that celebrated togetherness and paid tribute to the heroes of 2020, we sent a message of hope to everyone around the world.\\n In the spirit of the UAE\\'s courageous and wise leadership, we will continue to follow their lead and look forward to 2021 with optimism and excitement.\"\\nIn an Emaar first, the Burj Khalifa shared New Year\\'s Eve celebrations from around the world and invited global audiences to join virtually through a partnership with Zoom and live streams on YouTube and other social media channels.Emaar and government authorities overcame huge challenges in hosting a largescale event during a pandemic.\\n With the help of widespread disinfection measures and innovative social distancing measures to ensure the health and safety of New Year\\'s Eve guests, the seamless event was an example of great team effort.\\n The success of the night would not have been possible without the support of the leadership of the UAE, Dubai authorities, the Supreme Committee for COVID-19 Crisis Management, Dubai Police, all members of the Events Security Committee, Emaar contractors, suppliers and volunteers, and the Emaar team.The experience can be re-watched online on Emaar\\'s social media channels.\\n Burj Khalifa will show Emaar NYE 2021 nightly until January 7 and will feature a new laser & light show until March 31st.SOURCE Emaar'"
      ]
     },
     "execution_count": 62,
     "metadata": {},
     "output_type": "execute_result"
    }
   ],
   "source": [
    "text"
   ]
  },
  {
   "cell_type": "code",
   "execution_count": 25,
   "id": "e35fb147",
   "metadata": {},
   "outputs": [
    {
     "data": {
      "text/html": [
       "<div>\n",
       "<style scoped>\n",
       "    .dataframe tbody tr th:only-of-type {\n",
       "        vertical-align: middle;\n",
       "    }\n",
       "\n",
       "    .dataframe tbody tr th {\n",
       "        vertical-align: top;\n",
       "    }\n",
       "\n",
       "    .dataframe thead th {\n",
       "        text-align: right;\n",
       "    }\n",
       "</style>\n",
       "<table border=\"1\" class=\"dataframe\">\n",
       "  <thead>\n",
       "    <tr style=\"text-align: right;\">\n",
       "      <th></th>\n",
       "      <th>Kincaid</th>\n",
       "      <th>ARI</th>\n",
       "      <th>Coleman-Liau</th>\n",
       "      <th>FleschReadingEase</th>\n",
       "      <th>GunningFogIndex</th>\n",
       "      <th>LIX</th>\n",
       "      <th>SMOGIndex</th>\n",
       "      <th>RIX</th>\n",
       "      <th>DaleChallIndex</th>\n",
       "      <th>words</th>\n",
       "      <th>complex_words</th>\n",
       "    </tr>\n",
       "  </thead>\n",
       "  <tbody>\n",
       "    <tr>\n",
       "      <th>0</th>\n",
       "      <td>14.363034</td>\n",
       "      <td>18.441429</td>\n",
       "      <td>12.692057</td>\n",
       "      <td>50.227226</td>\n",
       "      <td>19.271585</td>\n",
       "      <td>60.432791</td>\n",
       "      <td>15.33462</td>\n",
       "      <td>9.071429</td>\n",
       "      <td>12.234973</td>\n",
       "      <td>457</td>\n",
       "      <td>71</td>\n",
       "    </tr>\n",
       "  </tbody>\n",
       "</table>\n",
       "</div>"
      ],
      "text/plain": [
       "     Kincaid        ARI  Coleman-Liau  FleschReadingEase  GunningFogIndex  \\\n",
       "0  14.363034  18.441429     12.692057          50.227226        19.271585   \n",
       "\n",
       "         LIX  SMOGIndex       RIX  DaleChallIndex  words  complex_words  \n",
       "0  60.432791   15.33462  9.071429       12.234973    457             71  "
      ]
     },
     "execution_count": 25,
     "metadata": {},
     "output_type": "execute_result"
    }
   ],
   "source": [
    "pd.concat([read_grades(text),sentence_info(text)], axis=1)"
   ]
  },
  {
   "cell_type": "code",
   "execution_count": 14,
   "id": "b77f010b",
   "metadata": {},
   "outputs": [
    {
     "data": {
      "text/plain": [
       "' Stocks continue their sell-off, with Tesla, Amazon, and Alibaba among the biggest decliners.Video Transcript [MUSIC PLAYING] - A massive sell-off with just over 25 minutes-- 35 minutes to go in the trading day.\\n Dow still off just over 1,300 points.\\n S&amp;P and NASDAQ firmly in the red'"
      ]
     },
     "execution_count": 14,
     "metadata": {},
     "output_type": "execute_result"
    }
   ],
   "source": [
    "y_url = \"https://finance.yahoo.com/video/tesla-amazon-alibaba-among-biggest-194513840.html\"\n",
    "nf = \"Content is currently unavailable\"\n",
    "page = requests.get(URL,headers={'User-Agent': 'Mozilla/5.0 (Macintosh; Intel Mac OS X 10_13_4) AppleWebKit/537.36 (KHTML, like Gecko) Chrome/35.0.1916.47 Safari/537.36'})\n",
    "soup = BeautifulSoup(page.content, \"html.parser\")\n",
    "if nf in soup.prettify():\n",
    "    pass\n",
    "try:\n",
    "    try:\n",
    "        master = soup.find(id=\"Masterwrap\")\n",
    "        final = master.find(\"div\", class_=\"caas-body\")\n",
    "    except AttributeError:\n",
    "        master = soup.find(id=\"Masterwrap2Col\")\n",
    "        final = master.find(\"div\", class_=\"caas-body\")\n",
    "except AttributeError:\n",
    "    pass\n",
    "text = re.sub('(<p>)', ' ', str(final))\n",
    "text = re.sub('<[^>]+>', '', str(text))\n",
    "sen_list = text.split(\". \")[:-2]\n",
    "article = [\".\\n \".join(sen_list[:-2])][0]# remove author signature\n",
    "article"
   ]
  }
 ],
 "metadata": {
  "kernelspec": {
   "display_name": "Python 3",
   "language": "python",
   "name": "python3"
  },
  "language_info": {
   "codemirror_mode": {
    "name": "ipython",
    "version": 3
   },
   "file_extension": ".py",
   "mimetype": "text/x-python",
   "name": "python",
   "nbconvert_exporter": "python",
   "pygments_lexer": "ipython3",
   "version": "3.8.3"
  },
  "toc": {
   "base_numbering": 1,
   "nav_menu": {},
   "number_sections": false,
   "sideBar": true,
   "skip_h1_title": true,
   "title_cell": "Table of Contents",
   "title_sidebar": "Contents",
   "toc_cell": true,
   "toc_position": {},
   "toc_section_display": true,
   "toc_window_display": true
  }
 },
 "nbformat": 4,
 "nbformat_minor": 5
}
