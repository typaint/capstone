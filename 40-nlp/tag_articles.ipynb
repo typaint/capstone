{
 "cells": [
  {
   "cell_type": "markdown",
   "id": "730937cb",
   "metadata": {
    "toc": true
   },
   "source": [
    "<h1>Table of Contents<span class=\"tocSkip\"></span></h1>\n",
    "<div class=\"toc\"><ul class=\"toc-item\"><li><span><a href=\"#FuzzyWuzzy-Package\" data-toc-modified-id=\"FuzzyWuzzy-Package-1\">FuzzyWuzzy Package</a></span></li><li><span><a href=\"#Example\" data-toc-modified-id=\"Example-2\">Example</a></span></li><li><span><a href=\"#Turn-rows-into-single-tags\" data-toc-modified-id=\"Turn-rows-into-single-tags-3\">Turn rows into single tags</a></span></li></ul></div>"
   ]
  },
  {
   "cell_type": "markdown",
   "id": "b62eb6dc",
   "metadata": {},
   "source": [
    "## FuzzyWuzzy Package"
   ]
  },
  {
   "cell_type": "code",
   "execution_count": 2,
   "id": "e2103b92",
   "metadata": {},
   "outputs": [
    {
     "name": "stdout",
     "output_type": "stream",
     "text": [
      "Requirement already satisfied: fuzzywuzzy[speedup] in /Users/TyPainter1/opt/anaconda3/lib/python3.8/site-packages (0.18.0)\r\n",
      "Requirement already satisfied: python-levenshtein>=0.12 in /Users/TyPainter1/opt/anaconda3/lib/python3.8/site-packages (from fuzzywuzzy[speedup]) (0.12.2)\r\n",
      "Requirement already satisfied: setuptools in /Users/TyPainter1/opt/anaconda3/lib/python3.8/site-packages (from python-levenshtein>=0.12->fuzzywuzzy[speedup]) (58.0.4)\r\n"
     ]
    }
   ],
   "source": [
    "!pip install fuzzywuzzy[speedup]"
   ]
  },
  {
   "cell_type": "code",
   "execution_count": 3,
   "id": "5644cf8f",
   "metadata": {},
   "outputs": [],
   "source": [
    "from fuzzywuzzy import fuzz\n",
    "from fuzzywuzzy import process\n",
    "import pandas as pd"
   ]
  },
  {
   "cell_type": "code",
   "execution_count": 4,
   "id": "a9a90036",
   "metadata": {},
   "outputs": [
    {
     "data": {
      "text/html": [
       "<div>\n",
       "<style scoped>\n",
       "    .dataframe tbody tr th:only-of-type {\n",
       "        vertical-align: middle;\n",
       "    }\n",
       "\n",
       "    .dataframe tbody tr th {\n",
       "        vertical-align: top;\n",
       "    }\n",
       "\n",
       "    .dataframe thead th {\n",
       "        text-align: right;\n",
       "    }\n",
       "</style>\n",
       "<table border=\"1\" class=\"dataframe\">\n",
       "  <thead>\n",
       "    <tr style=\"text-align: right;\">\n",
       "      <th></th>\n",
       "      <th>Symbol</th>\n",
       "      <th>Security</th>\n",
       "    </tr>\n",
       "  </thead>\n",
       "  <tbody>\n",
       "    <tr>\n",
       "      <th>0</th>\n",
       "      <td>MMM</td>\n",
       "      <td>3M</td>\n",
       "    </tr>\n",
       "    <tr>\n",
       "      <th>1</th>\n",
       "      <td>AOS</td>\n",
       "      <td>A. O. Smith</td>\n",
       "    </tr>\n",
       "    <tr>\n",
       "      <th>2</th>\n",
       "      <td>ABT</td>\n",
       "      <td>Abbott</td>\n",
       "    </tr>\n",
       "    <tr>\n",
       "      <th>3</th>\n",
       "      <td>ABBV</td>\n",
       "      <td>AbbVie</td>\n",
       "    </tr>\n",
       "    <tr>\n",
       "      <th>4</th>\n",
       "      <td>ABMD</td>\n",
       "      <td>Abiomed</td>\n",
       "    </tr>\n",
       "  </tbody>\n",
       "</table>\n",
       "</div>"
      ],
      "text/plain": [
       "  Symbol     Security\n",
       "0    MMM           3M\n",
       "1    AOS  A. O. Smith\n",
       "2    ABT       Abbott\n",
       "3   ABBV       AbbVie\n",
       "4   ABMD      Abiomed"
      ]
     },
     "execution_count": 4,
     "metadata": {},
     "output_type": "execute_result"
    }
   ],
   "source": [
    "tick_comp_df = pd.read_csv(\"../00-data/company_tickers.csv\")\n",
    "tick_comp_df.head()"
   ]
  },
  {
   "cell_type": "code",
   "execution_count": 5,
   "id": "f5272521",
   "metadata": {},
   "outputs": [
    {
     "name": "stdout",
     "output_type": "stream",
     "text": [
      "['MMM', 'AOS', 'ABT', 'ABBV', 'ABMD', 'ACN', 'ATVI', 'ADM', 'ADBE', 'ADP', 'AAP', 'AES', 'AFL', 'A', 'AIG', 'APD', 'AKAM', 'ALK', 'ALB', 'ARE', 'ALGN', 'ALLE', 'LNT', 'ALL', 'GOOGL', 'GOOG', 'MO', 'AMZN', 'AMCR', 'AMD', 'AEE', 'AAL', 'AEP', 'AXP', 'AMT', 'AWK', 'AMP', 'ABC', 'AME', 'AMGN', 'APH', 'ADI', 'ANSS', 'ANTM', 'AON', 'APA', 'AAPL', 'AMAT', 'APTV', 'ANET', 'AIZ', 'T', 'ATO', 'ADSK', 'AZO', 'AVB', 'AVY', 'BKR', 'BLL', 'BAC', 'BBWI', 'BAX', 'BDX', 'WRB', 'BRK.B', 'BBY', 'BIO', 'TECH', 'BIIB', 'BLK', 'BK', 'BA', 'BKNG', 'BWA', 'BXP', 'BSX', 'BMY', 'AVGO', 'BR', 'BRO', 'BF.B', 'CHRW', 'CDNS', 'CZR', 'CPB', 'COF', 'CAH', 'KMX', 'CCL', 'CARR', 'CTLT', 'CAT', 'CBOE', 'CBRE', 'CDW', 'CE', 'CNC', 'CNP', 'CDAY', 'CERN', 'CF', 'CRL', 'SCHW', 'CHTR', 'CVX', 'CMG', 'CB', 'CHD', 'CI', 'CINF', 'CTAS', 'CSCO', 'C', 'CFG', 'CTXS', 'CLX', 'CME', 'CMS', 'KO', 'CTSH', 'CL', 'CMCSA', 'CMA', 'CAG', 'COP', 'ED', 'STZ', 'CEG', 'COO', 'CPRT', 'GLW', 'CTVA', 'COST', 'CTRA', 'CCI', 'CSX', 'CMI', 'CVS', 'DHI', 'DHR', 'DRI', 'DVA', 'DE', 'DAL', 'XRAY', 'DVN', 'DXCM', 'FANG', 'DLR', 'DFS', 'DISCA', 'DISCK', 'DISH', 'DIS', 'DG', 'DLTR', 'D', 'DPZ', 'DOV', 'DOW', 'DTE', 'DUK', 'DRE', 'DD', 'DXC', 'EMN', 'ETN', 'EBAY', 'ECL', 'EIX', 'EW', 'EA', 'EMR', 'ENPH', 'ETR', 'EOG', 'EPAM', 'EFX', 'EQIX', 'EQR', 'ESS', 'EL', 'ETSY', 'RE', 'EVRG', 'ES', 'EXC', 'EXPE', 'EXPD', 'EXR', 'XOM', 'FFIV', 'FDS', 'FAST', 'FRT', 'FDX', 'FITB', 'FRC', 'FE', 'FIS', 'FISV', 'FLT', 'FMC', 'F', 'FTNT', 'FTV', 'FBHS', 'FOXA', 'FOX', 'BEN', 'FCX', 'AJG', 'GRMN', 'IT', 'GE', 'GNRC', 'GD', 'GIS', 'GPC', 'GILD', 'GL', 'GPN', 'GM', 'GS', 'GWW', 'HAL', 'HIG', 'HAS', 'HCA', 'PEAK', 'HSIC', 'HSY', 'HES', 'HPE', 'HLT', 'HOLX', 'HD', 'HON', 'HRL', 'HST', 'HWM', 'HPQ', 'HUM', 'HII', 'HBAN', 'IEX', 'IDXX', 'ITW', 'ILMN', 'INCY', 'IR', 'INTC', 'ICE', 'IBM', 'IP', 'IPG', 'IFF', 'INTU', 'ISRG', 'IVZ', 'IPGP', 'IQV', 'IRM', 'JBHT', 'JKHY', 'J', 'JNJ', 'JCI', 'JPM', 'JNPR', 'K', 'KEY', 'KEYS', 'KMB', 'KIM', 'KMI', 'KLAC', 'KHC', 'KR', 'LHX', 'LH', 'LRCX', 'LW', 'LVS', 'LDOS', 'LEN', 'LLY', 'LNC', 'LIN', 'LYV', 'LKQ', 'LMT', 'L', 'LOW', 'LUMN', 'LYB', 'MTB', 'MRO', 'MPC', 'MKTX', 'MAR', 'MMC', 'MLM', 'MAS', 'MA', 'MTCH', 'MKC', 'MCD', 'MCK', 'MDT', 'MRK', 'FB', 'MET', 'MTD', 'MGM', 'MCHP', 'MU', 'MSFT', 'MAA', 'MRNA', 'MHK', 'MOH', 'TAP', 'MDLZ', 'MPWR', 'MNST', 'MCO', 'MS', 'MOS', 'MSI', 'MSCI', 'NDAQ', 'NTAP', 'NFLX', 'NWL', 'NEM', 'NWSA', 'NWS', 'NEE', 'NLSN', 'NKE', 'NI', 'NDSN', 'NSC', 'NTRS', 'NOC', 'NLOK', 'NCLH', 'NRG', 'NUE', 'NVDA', 'NVR', 'NXPI', 'ORLY', 'OXY', 'ODFL', 'OMC', 'OKE', 'ORCL', 'OGN', 'OTIS', 'PCAR', 'PKG', 'PARA', 'PH', 'PAYX', 'PAYC', 'PYPL', 'PENN', 'PNR', 'PBCT', 'PEP', 'PKI', 'PFE', 'PM', 'PSX', 'PNW', 'PXD', 'PNC', 'POOL', 'PPG', 'PPL', 'PFG', 'PG', 'PGR', 'PLD', 'PRU', 'PEG', 'PTC', 'PSA', 'PHM', 'PVH', 'QRVO', 'PWR', 'QCOM', 'DGX', 'RL', 'RJF', 'RTX', 'O', 'REG', 'REGN', 'RF', 'RSG', 'RMD', 'RHI', 'ROK', 'ROL', 'ROP', 'ROST', 'RCL', 'SPGI', 'CRM', 'SBAC', 'SLB', 'STX', 'SEE', 'SRE', 'NOW', 'SHW', 'SBNY', 'SPG', 'SWKS', 'SJM', 'SNA', 'SEDG', 'SO', 'LUV', 'SWK', 'SBUX', 'STT', 'STE', 'SYK', 'SIVB', 'SYF', 'SNPS', 'SYY', 'TMUS', 'TROW', 'TTWO', 'TPR', 'TGT', 'TEL', 'TDY', 'TFX', 'TER', 'TSLA', 'TXN', 'TXT', 'TMO', 'TJX', 'TSCO', 'TT', 'TDG', 'TRV', 'TRMB', 'TFC', 'TWTR', 'TYL', 'TSN', 'USB', 'UDR', 'ULTA', 'UAA', 'UA', 'UNP', 'UAL', 'UNH', 'UPS', 'URI', 'UHS', 'VLO', 'VTR', 'VRSN', 'VRSK', 'VZ', 'VRTX', 'VFC', 'VTRS', 'V', 'VNO', 'VMC', 'WAB', 'WMT', 'WBA', 'WM', 'WAT', 'WEC', 'WFC', 'WELL', 'WST', 'WDC', 'WRK', 'WY', 'WHR', 'WMB', 'WTW', 'WYNN', 'XEL', 'XYL', 'YUM', 'ZBRA', 'ZBH', 'ZION', 'ZTS', '3M', 'A. O. Smith', 'Abbott', 'AbbVie', 'Abiomed', 'Accenture', 'Activision Blizzard', 'ADM', 'Adobe', 'ADP', 'Advance Auto Parts', 'AES', 'Aflac', 'Agilent Technologies', 'AIG', 'Air Products', 'Akamai', 'Alaska Air Group', 'Albemarle', 'Alexandria', 'Align', 'Allegion', 'Alliant Energy', 'Allstate', 'Alphabet (Class A)', 'Alphabet (Class C)', 'Altria', 'Amazon', 'Amcor', 'AMD', 'Ameren', 'American Airlines Group', 'American Electric Power', 'American Express', 'American Tower', 'American Water', 'Ameriprise Financial', 'AmerisourceBergen', 'Ametek', 'Amgen', 'Amphenol', 'Analog Devices', 'Ansys', 'Anthem', 'Aon', 'APA Corporation', 'Apple', 'Applied Materials', 'Aptiv', 'Arista', 'Assurant', 'AT&T', 'Atmos Energy', 'Autodesk', 'AutoZone', 'AvalonBay Communities', 'Avery Dennison', 'Baker Hughes', 'Ball', 'Bank of America', 'Bath & Body Works', 'Baxter', 'Becton Dickinson', 'Berkley', 'Berkshire Hathaway', 'Best Buy', 'Bio-Rad', 'Bio-Techne', 'Biogen', 'BlackRock', 'BNY Mellon', 'Boeing', 'Booking Holdings', 'BorgWarner', 'Boston Properties', 'Boston Scientific', 'Bristol Myers Squibb', 'Broadcom', 'Broadridge', 'Brown & Brown', 'Brown–Forman', 'C.H. Robinson', 'Cadence', 'Caesars Entertainment', \"Campbell's\", 'Capital One', 'Cardinal Health', 'CarMax', 'Carnival', 'Carrier', 'Catalent', 'Caterpillar', 'Cboe', 'CBRE', 'CDW', 'Celanese', 'Centene', 'CenterPoint Energy', 'Ceridian', 'Cerner', 'CF Industries', 'Charles River', 'Charles Schwab', 'Charter Communications', 'Chevron', 'Chipotle Mexican Grill', 'Chubb', 'Church & Dwight', 'Cigna', 'Cincinnati Financial', 'Cintas', 'Cisco', 'Citigroup', 'Citizens', 'Citrix', 'Clorox', 'CME Group', 'CMS Energy', 'Coca-Cola', 'Cognizant', 'Colgate-Palmolive', 'Comcast', 'Comerica', 'Conagra Brands', 'ConocoPhillips', 'Con Edison', 'Constellation Brands', 'Constellation Energy', 'CooperCompanies', 'Copart', 'Corning', 'Corteva', 'Costco', 'Coterra', 'Crown Castle', 'CSX', 'Cummins', 'CVS Health', 'D.R. Horton', 'Danaher', 'Darden', 'DaVita', 'Deere & Co.', 'Delta Air Lines', 'Dentsply Sirona', 'Devon', 'DexCom', 'Diamondback', 'Digital Realty', 'Discover', 'Discovery (Series A)', 'Discovery (Series C)', 'Dish', 'Disney', 'Dollar General', 'Dollar Tree', 'Dominion Energy', \"Domino's\", 'Dover', 'Dow', 'DTE', 'Duke Energy', 'Duke Realty', 'DuPont', 'DXC Technology', 'Eastman', 'Eaton', 'eBay', 'Ecolab', 'Edison International', 'Edwards Lifesciences', 'Electronic Arts', 'Emerson', 'Enphase', 'Entergy', 'EOG Resources', 'EPAM', 'Equifax', 'Equinix', 'Equity Residential', 'Essex', 'Estée Lauder Companies', 'Etsy', 'Everest', 'Evergy', 'Eversource', 'Exelon', 'Expedia Group', 'Expeditors', 'Extra Space Storage', 'ExxonMobil', 'F5', 'FactSet', 'Fastenal', 'Federal Realty', 'FedEx', 'Fifth Third Bank', 'First Republic', 'FirstEnergy', 'FIS', 'Fiserv', 'Fleetcor', 'FMC', 'Ford', 'Fortinet', 'Fortive', 'Fortune Brands', 'Fox Corporation (Class A)', 'Fox Corporation (Class B)', 'Franklin Templeton', 'Freeport-McMoRan', 'Gallagher', 'Garmin', 'Gartner', 'GE', 'Generac', 'General Dynamics', 'General Mills', 'Genuine Parts', 'Gilead', 'Globe Life', 'Global Payments', 'GM', 'Goldman Sachs', 'Grainger', 'Halliburton', 'Hartford (The)', 'Hasbro', 'HCA Healthcare', 'Healthpeak', 'Henry Schein', \"Hershey's\", 'Hess', 'Hewlett Packard Enterprise', 'Hilton', 'Hologic', 'Home Depot', 'Honeywell', 'Hormel', 'Host Hotels & Resorts', 'Howmet Aerospace', 'HP', 'Humana', 'Huntington Ingalls Industries', 'Huntington National Bank', 'IDEX', 'Idexx Laboratories', 'Illinois Tool Works', 'Illumina', 'Incyte', 'Ingersoll Rand', 'Intel', 'Intercontinental Exchange', 'IBM', 'International Paper', 'Interpublic Group', 'International Flavors & Fragrances', 'Intuit', 'Intuitive Surgical', 'Invesco', 'IPG Photonics', 'IQVIA', 'Iron Mountain', 'J.B. Hunt', 'Jack Henry & Associates', 'Jacobs', 'Johnson & Johnson', 'Johnson Controls', 'JPMorgan Chase', 'Juniper Networks', \"Kellogg's\", 'KeyCorp', 'Keysight', 'Kimberly-Clark', 'Kimco Realty', 'Kinder Morgan', 'KLA', 'Kraft Heinz', 'Kroger', 'L3Harris', 'LabCorp', 'Lam Research', 'Lamb Weston', 'Las Vegas Sands', 'Leidos', 'Lennar', 'Lilly', 'Lincoln Financial', 'Linde', 'Live Nation Entertainment', 'LKQ Corporation', 'Lockheed Martin', 'Loews Corporation', \"Lowe's\", 'Lumen', 'LyondellBasell', 'M&T Bank', 'Marathon Oil', 'Marathon Petroleum', 'MarketAxess', 'Marriott International', 'Marsh & McLennan', 'Martin Marietta', 'Masco', 'Mastercard', 'Match Group', 'McCormick', \"McDonald's\", 'McKesson', 'Medtronic', 'Merck', 'Meta', 'MetLife', 'Mettler Toledo', 'MGM Resorts', 'Microchip', 'Micron', 'Microsoft', 'Mid-America Apartments', 'Moderna', 'Mohawk Industries', 'Molina Healthcare', 'Molson Coors', 'Mondelez International', 'Monolithic Power Systems', 'Monster Beverage', \"Moody's\", 'Morgan Stanley', 'Mosaic', 'Motorola Solutions', 'MSCI', 'Nasdaq', 'NetApp', 'Netflix', 'Newell Brands', 'Newmont', 'News Corp (Class A)', 'News Corp (Class B)', 'NextEra Energy', 'Nielsen', 'Nike', 'NiSource', 'Nordson', 'Norfolk Southern', 'Northern Trust', 'Northrop Grumman', 'NortonLifeLock', 'Norwegian Cruise Line Holdings', 'NRG Energy', 'Nucor', 'Nvidia', 'NVR', 'NXP', \"O'Reilly Automotive\", 'Occidental Petroleum', 'Old Dominion', 'Omnicom Group', 'Oneok', 'Oracle', 'Organon', 'Otis', 'Paccar', 'Packaging Corporation of America', 'Paramount', 'Parker', 'Paychex', 'Paycom', 'PayPal', 'Penn National Gaming', 'Pentair', \"People's United Financial\", 'PepsiCo', 'PerkinElmer', 'Pfizer', 'Philip Morris International', 'Phillips 66', 'Pinnacle West', 'Pioneer Natural Resources', 'PNC Financial Services', 'Pool Corporation', 'PPG Industries', 'PPL', 'Principal', 'Procter & Gamble', 'Progressive', 'Prologis', 'Prudential', 'PSEG', 'PTC', 'Public Storage', 'PulteGroup', 'PVH', 'Qorvo', 'Quanta', 'Qualcomm', 'Quest Diagnostics', 'Ralph Lauren', 'Raymond James', 'Raytheon Technologies', 'Realty Income', 'Regency Centers', 'Regeneron', 'Regions', 'Republic Services', 'ResMed', 'Robert Half', 'Rockwell Automation', 'Rollins', 'Roper', 'Ross', 'Royal Caribbean Group', 'S&P Global', 'Salesforce', 'SBA Communications', 'Schlumberger', 'Seagate', 'Sealed Air', 'Sempra Energy', 'ServiceNow', 'Sherwin-Williams', 'Signature Bank', 'Simon', 'Skyworks', 'Smucker', 'Snap-on', 'SolarEdge', 'Southern Company', 'Southwest Airlines', 'Stanley Black & Decker', 'Starbucks', 'State Street', 'Steris', 'Stryker', 'SVB Financial', 'Synchrony', 'Synopsys', 'Sysco', 'T-Mobile', 'T. Rowe Price', 'Take-Two Interactive', 'Tapestry', 'Target', 'TE Connectivity', 'Teledyne', 'Teleflex', 'Teradyne', 'Tesla', 'Texas Instruments', 'Textron', 'Thermo Fisher Scientific', 'TJX Companies', 'Tractor Supply', 'Trane Technologies', 'TransDigm', 'Travelers', 'Trimble', 'Truist', 'Twitter', 'Tyler Technologies', 'Tyson', 'U.S. Bank', 'UDR', 'Ulta Beauty', 'Under Armour (Class A)', 'Under Armour (Class C)', 'Union Pacific', 'United Airlines', 'UnitedHealth Group', 'United Parcel Service', 'United Rentals', 'Universal Health Services', 'Valero', 'Ventas', 'Verisign', 'Verisk', 'Verizon', 'Vertex', 'VF Corporation', 'Viatris', 'Visa', 'Vornado Realty Trust', 'Vulcan Materials', 'Wabtec', 'Walmart', 'Walgreens Boots Alliance', 'Waste Management', 'Waters', 'WEC Energy Group', 'Wells Fargo', 'Welltower', 'West Pharmaceutical Services', 'Western Digital', 'WestRock', 'Weyerhaeuser', 'Whirlpool', 'Williams', 'Willis Towers Watson', 'Wynn Resorts', 'Xcel Energy', 'Xylem', 'Yum! Brands', 'Zebra', 'Zimmer Biomet', 'Zions Bancorp', 'Zoetis']\n"
     ]
    }
   ],
   "source": [
    "article = [\"Apple stock went up. Tesla stock dropped. AMZN had good news. Google remains fair. Stryker is a company. Yum! and Best Buy\"]\n",
    "tickers = tick_comp_df[\"Symbol\"].to_list()\n",
    "companies = tick_comp_df[\"Security\"].to_list()\n",
    "ticks_comps = tickers + companies\n",
    "print(ticks_comps)"
   ]
  },
  {
   "cell_type": "code",
   "execution_count": 6,
   "id": "80880a78",
   "metadata": {},
   "outputs": [
    {
     "data": {
      "text/plain": [
       "[('A', 100), ('AMZN', 100), ('YUM', 100), ('Apple', 100), ('Best Buy', 100)]"
      ]
     },
     "execution_count": 6,
     "metadata": {},
     "output_type": "execute_result"
    }
   ],
   "source": [
    "scores = process.extract(article[0], ticks_comps, scorer=fuzz.token_set_ratio)\n",
    "scores"
   ]
  },
  {
   "cell_type": "code",
   "execution_count": 7,
   "id": "8c2a4c11",
   "metadata": {},
   "outputs": [
    {
     "data": {
      "text/plain": [
       "['A', 'AMZN', 'YUM', 'Apple', 'Best Buy']"
      ]
     },
     "execution_count": 7,
     "metadata": {},
     "output_type": "execute_result"
    }
   ],
   "source": [
    "tags = [scores[i][0] for i in range(len(scores)) if scores[i][1]>90]\n",
    "tags"
   ]
  },
  {
   "cell_type": "code",
   "execution_count": 8,
   "id": "6a9c51af",
   "metadata": {},
   "outputs": [],
   "source": [
    "def tag_article(article, companies, df): #, tickers\n",
    "    if (article == \"NA\") | (article==\"\"):\n",
    "        tags = np.nan\n",
    "    else:\n",
    "        scores = process.extract(article, \n",
    "                                 companies,\n",
    "                                 scorer=fuzz.token_set_ratio, \n",
    "                                 limit=50)\n",
    "        comp_tags = [scores[i][0] for i in range(len(scores)) if scores[i][1]>90]\n",
    "        tags = list(df.loc[df.Security.isin(comp_tags), \"Symbol\"])\n",
    "        if len(tags) == 0:\n",
    "            tags = np.nan\n",
    "    return(tags)"
   ]
  },
  {
   "cell_type": "markdown",
   "id": "75c8f576",
   "metadata": {},
   "source": [
    "## Example"
   ]
  },
  {
   "cell_type": "code",
   "execution_count": 9,
   "id": "0712ea77",
   "metadata": {},
   "outputs": [],
   "source": [
    "from bs4 import BeautifulSoup\n",
    "import requests\n",
    "import re"
   ]
  },
  {
   "cell_type": "code",
   "execution_count": 10,
   "id": "b1ab29bd",
   "metadata": {},
   "outputs": [],
   "source": [
    "URL = \"https://finance.yahoo.com/news/fintech-stocks-fall-amid-report-of-apples-financial-services-plans-201032568.html\"\n",
    "def yahoo_article(URL):\n",
    "    nf = \"Content is currently unavailable\"\n",
    "    page = requests.get(URL,headers={'User-Agent': 'Mozilla/5.0 (Macintosh; Intel Mac OS X 10_13_4) AppleWebKit/537.36 (KHTML, like Gecko) Chrome/35.0.1916.47 Safari/537.36'})\n",
    "    soup = BeautifulSoup(page.content, \"html.parser\")\n",
    "    if nf in soup.prettify():\n",
    "        pass\n",
    "    try:\n",
    "        try:\n",
    "            master = soup.find(id=\"Masterwrap\")\n",
    "            final = master.find(\"div\", class_=\"caas-body\")\n",
    "        except AttributeError:\n",
    "            master = soup.find(id=\"Masterwrap2Col\")\n",
    "            final = master.find(\"div\", class_=\"caas-body\")\n",
    "    except AttributeError:\n",
    "        pass\n",
    "    text = re.sub('(<p>)', ' ', str(final))\n",
    "    text = re.sub('<[^>]+>', '', str(text))\n",
    "    sen_list = text.split(\". \")\n",
    "    article = [\".\\n \".join(sen_list[:-2])][0] # remove author signature\n",
    "\n",
    "    return(article)"
   ]
  },
  {
   "cell_type": "code",
   "execution_count": 11,
   "id": "4ad9f6da",
   "metadata": {
    "scrolled": true
   },
   "outputs": [
    {
     "data": {
      "text/plain": [
       "\" Block (SQ), PayPal (PYPL), Marqeta (MQ) Visa (V), and other payment companies' shares fell on Wednesday afternoon after Bloomberg reported Apple (AAPL) is working on a plan dubbed “Breakout” aimed at bringing financial services in-house.\\n The report states the tech giant is building a payment processing technology and infrastructure as part of an effort to decrease its dependence on outside partners.\\n The strategy is aimed at future financial products instead of existing ones.\\n Shares of Block, formally known as Square, fell by more than 4% an hour before the closing bell on Wednesday.\\n PayPal shares were down about 2%.\\n Visa and Global Payments (GNP) was also lower.Payment companies stock price action on March 30, 2022 The reported plan would expand Apple's pretense into the financial services industry.\\n The Cupertino, California–based company has been growing its services businesses.\\n The tech giant already offers an Apple Card in connection with Goldman Sachs.\\n It also runs Apple Pay and a peer-to-peer payment service.\\n Apple Pay is available in around 70 countries, while the Apple Card and the company's peer-to-peer payment features are only accessible in the U.S.\\n Fintech companies have been volatile along with the broader markets over the past several months amid higher interest rates and rising inflation.\\n Marqeta (MQ) is down 38% since the beginning of January.\\n Affirm (AFRM) is down 53% year-to-date, while PayPal is down 37% since the start of the year\""
      ]
     },
     "execution_count": 11,
     "metadata": {},
     "output_type": "execute_result"
    }
   ],
   "source": [
    "yahoo_article(URL)"
   ]
  },
  {
   "cell_type": "code",
   "execution_count": 12,
   "id": "db4da271",
   "metadata": {},
   "outputs": [],
   "source": [
    "article = yahoo_article(URL)#\"https://news.yahoo.com/red-hot-buccaneers-not-looking-231637664.html\")"
   ]
  },
  {
   "cell_type": "code",
   "execution_count": 13,
   "id": "eaca51fe",
   "metadata": {},
   "outputs": [
    {
     "data": {
      "text/plain": [
       "\" Block (SQ), PayPal (PYPL), Marqeta (MQ) Visa (V), and other payment companies' shares fell on Wednesday afternoon after Bloomberg reported Apple (AAPL) is working on a plan dubbed “Breakout” aimed at bringing financial services in-house.\\n The report states the tech giant is building a payment processing technology and infrastructure as part of an effort to decrease its dependence on outside partners.\\n The strategy is aimed at future financial products instead of existing ones.\\n Shares of Block, formally known as Square, fell by more than 4% an hour before the closing bell on Wednesday.\\n PayPal shares were down about 2%.\\n Visa and Global Payments (GNP) was also lower.Payment companies stock price action on March 30, 2022 The reported plan would expand Apple's pretense into the financial services industry.\\n The Cupertino, California–based company has been growing its services businesses.\\n The tech giant already offers an Apple Card in connection with Goldman Sachs.\\n It also runs Apple Pay and a peer-to-peer payment service.\\n Apple Pay is available in around 70 countries, while the Apple Card and the company's peer-to-peer payment features are only accessible in the U.S.\\n Fintech companies have been volatile along with the broader markets over the past several months amid higher interest rates and rising inflation.\\n Marqeta (MQ) is down 38% since the beginning of January.\\n Affirm (AFRM) is down 53% year-to-date, while PayPal is down 37% since the start of the year\""
      ]
     },
     "execution_count": 13,
     "metadata": {},
     "output_type": "execute_result"
    }
   ],
   "source": [
    "article"
   ]
  },
  {
   "cell_type": "code",
   "execution_count": 14,
   "id": "cc4ab368",
   "metadata": {},
   "outputs": [
    {
     "data": {
      "text/plain": [
       "[('Apple', 100),\n",
       " ('Global Payments', 100),\n",
       " ('Goldman Sachs', 100),\n",
       " ('PayPal', 100),\n",
       " ('Visa', 100),\n",
       " ('PNC Financial Services', 90),\n",
       " ('S&P Global', 89),\n",
       " ('DXC Technology', 83),\n",
       " ('SVB Financial', 82),\n",
       " ('TJX Companies', 82),\n",
       " ('Air Products', 80),\n",
       " ('Lincoln Financial', 69),\n",
       " ('AT&T', 67),\n",
       " ('Republic Services', 64),\n",
       " ('Ameriprise Financial', 62),\n",
       " ('Cincinnati Financial', 62),\n",
       " (\"People's United Financial\", 61),\n",
       " ('Southern Company', 61),\n",
       " ('Estée Lauder Companies', 60),\n",
       " ('T. Rowe Price', 59),\n",
       " ('U.S. Bank', 55),\n",
       " ('United Parcel Service', 50),\n",
       " ('Universal Health Services', 48),\n",
       " ('Snap-on', 44),\n",
       " ('West Pharmaceutical Services', 44),\n",
       " ('Hartford (The)', 40),\n",
       " (\"Lowe's\", 29),\n",
       " (\"Moody's\", 25),\n",
       " ('Bank of America', 24),\n",
       " (\"Domino's\", 22),\n",
       " ('A. O. Smith', 20),\n",
       " (\"Hershey's\", 20),\n",
       " (\"Kellogg's\", 20),\n",
       " (\"Campbell's\", 18),\n",
       " (\"McDonald's\", 18),\n",
       " ('Alphabet (Class A)', 12),\n",
       " ('Packaging Corporation of America', 12),\n",
       " ('Discovery (Series A)', 11),\n",
       " ('News Corp (Class A)', 11),\n",
       " ('Under Armour (Class A)', 10),\n",
       " ('Fox Corporation (Class A)', 8),\n",
       " ('Huntington Ingalls Industries', 6),\n",
       " ('International Flavors & Fragrances', 6),\n",
       " ('Norwegian Cruise Line Holdings', 6),\n",
       " ('American Airlines Group', 5),\n",
       " ('American Electric Power', 5),\n",
       " ('Hewlett Packard Enterprise', 5),\n",
       " ('Huntington National Bank', 5),\n",
       " ('Intercontinental Exchange', 5),\n",
       " ('Live Nation Entertainment', 5)]"
      ]
     },
     "execution_count": 14,
     "metadata": {},
     "output_type": "execute_result"
    }
   ],
   "source": [
    "process.extract(article, \n",
    "                companies,\n",
    "                scorer=fuzz.token_set_ratio, \n",
    "                limit=50)"
   ]
  },
  {
   "cell_type": "code",
   "execution_count": 46,
   "id": "432701da",
   "metadata": {},
   "outputs": [
    {
     "data": {
      "text/plain": [
       "['Apple', 'Global Payments', 'Goldman Sachs', 'PayPal', 'Visa']"
      ]
     },
     "execution_count": 46,
     "metadata": {},
     "output_type": "execute_result"
    }
   ],
   "source": [
    "tag_article(yahoo_article(URL),companies)"
   ]
  },
  {
   "cell_type": "code",
   "execution_count": 47,
   "id": "8c6cbecc",
   "metadata": {
    "scrolled": false
   },
   "outputs": [
    {
     "data": {
      "text/plain": [
       "['A',\n",
       " 'ARE',\n",
       " 'AAPL',\n",
       " 'TECH',\n",
       " 'IT',\n",
       " 'HAS',\n",
       " 'PYPL',\n",
       " 'V',\n",
       " 'Apple',\n",
       " 'Global Payments',\n",
       " 'Goldman Sachs',\n",
       " 'PayPal',\n",
       " 'Visa']"
      ]
     },
     "execution_count": 47,
     "metadata": {},
     "output_type": "execute_result"
    }
   ],
   "source": [
    "tag_article(yahoo_article(URL), \n",
    "                         ticks_comps)"
   ]
  },
  {
   "cell_type": "code",
   "execution_count": 116,
   "id": "58e67aca",
   "metadata": {},
   "outputs": [
    {
     "data": {
      "text/plain": [
       "nan"
      ]
     },
     "execution_count": 116,
     "metadata": {},
     "output_type": "execute_result"
    }
   ],
   "source": [
    "#tags = tag_article(yahoo_article(URL),companies,tick_comp_df)\n",
    "tags = tag_article(\"afsdhf\", companies, tick_comp_df)\n",
    "tags"
   ]
  },
  {
   "cell_type": "code",
   "execution_count": 117,
   "id": "de2118a7",
   "metadata": {},
   "outputs": [
    {
     "data": {
      "text/html": [
       "<div>\n",
       "<style scoped>\n",
       "    .dataframe tbody tr th:only-of-type {\n",
       "        vertical-align: middle;\n",
       "    }\n",
       "\n",
       "    .dataframe tbody tr th {\n",
       "        vertical-align: top;\n",
       "    }\n",
       "\n",
       "    .dataframe thead th {\n",
       "        text-align: right;\n",
       "    }\n",
       "</style>\n",
       "<table border=\"1\" class=\"dataframe\">\n",
       "  <thead>\n",
       "    <tr style=\"text-align: right;\">\n",
       "      <th></th>\n",
       "      <th>tags</th>\n",
       "    </tr>\n",
       "  </thead>\n",
       "  <tbody>\n",
       "    <tr>\n",
       "      <th>0</th>\n",
       "      <td>NaN</td>\n",
       "    </tr>\n",
       "  </tbody>\n",
       "</table>\n",
       "</div>"
      ],
      "text/plain": [
       "  tags\n",
       "0  NaN"
      ]
     },
     "execution_count": 117,
     "metadata": {},
     "output_type": "execute_result"
    }
   ],
   "source": [
    "tag_df = pd.DataFrame(columns=[\"tags\"])\n",
    "tag_df.at[0, 'tags'] = tags\n",
    "tag_df"
   ]
  },
  {
   "cell_type": "code",
   "execution_count": 118,
   "id": "13195768",
   "metadata": {},
   "outputs": [
    {
     "data": {
      "text/html": [
       "<div>\n",
       "<style scoped>\n",
       "    .dataframe tbody tr th:only-of-type {\n",
       "        vertical-align: middle;\n",
       "    }\n",
       "\n",
       "    .dataframe tbody tr th {\n",
       "        vertical-align: top;\n",
       "    }\n",
       "\n",
       "    .dataframe thead th {\n",
       "        text-align: right;\n",
       "    }\n",
       "</style>\n",
       "<table border=\"1\" class=\"dataframe\">\n",
       "  <thead>\n",
       "    <tr style=\"text-align: right;\">\n",
       "      <th></th>\n",
       "      <th>tags</th>\n",
       "    </tr>\n",
       "  </thead>\n",
       "  <tbody>\n",
       "    <tr>\n",
       "      <th>0</th>\n",
       "      <td>NaN</td>\n",
       "    </tr>\n",
       "    <tr>\n",
       "      <th>1</th>\n",
       "      <td>NaN</td>\n",
       "    </tr>\n",
       "  </tbody>\n",
       "</table>\n",
       "</div>"
      ],
      "text/plain": [
       "  tags\n",
       "0  NaN\n",
       "1  NaN"
      ]
     },
     "execution_count": 118,
     "metadata": {},
     "output_type": "execute_result"
    }
   ],
   "source": [
    "tag_df.at[1, 'tags'] = tags\n",
    "tag_df"
   ]
  },
  {
   "cell_type": "code",
   "execution_count": 119,
   "id": "42df21db",
   "metadata": {},
   "outputs": [
    {
     "data": {
      "text/html": [
       "<div>\n",
       "<style scoped>\n",
       "    .dataframe tbody tr th:only-of-type {\n",
       "        vertical-align: middle;\n",
       "    }\n",
       "\n",
       "    .dataframe tbody tr th {\n",
       "        vertical-align: top;\n",
       "    }\n",
       "\n",
       "    .dataframe thead th {\n",
       "        text-align: right;\n",
       "    }\n",
       "</style>\n",
       "<table border=\"1\" class=\"dataframe\">\n",
       "  <thead>\n",
       "    <tr style=\"text-align: right;\">\n",
       "      <th></th>\n",
       "      <th>tags</th>\n",
       "    </tr>\n",
       "  </thead>\n",
       "  <tbody>\n",
       "  </tbody>\n",
       "</table>\n",
       "</div>"
      ],
      "text/plain": [
       "Empty DataFrame\n",
       "Columns: [tags]\n",
       "Index: []"
      ]
     },
     "execution_count": 119,
     "metadata": {},
     "output_type": "execute_result"
    }
   ],
   "source": [
    "tag_df.dropna()"
   ]
  },
  {
   "cell_type": "markdown",
   "id": "03a7f441",
   "metadata": {},
   "source": [
    "## Turn rows into single tags"
   ]
  },
  {
   "cell_type": "code",
   "execution_count": null,
   "id": "888677d9",
   "metadata": {},
   "outputs": [],
   "source": [
    "def row_tags(old_df):\n",
    "    new_df = pd.DataFrame(columns=old_df.columns)\n",
    "    for i in range(len(new_df)):\n",
    "        new_tags = new_df.tags[i].strip(\"][\").replace(\"'\",\"\").split(', ')\n",
    "        for t in new_tags:\n",
    "            new_df = new_df.append(dff.iloc[i,:-1]).reset_index(drop=True)\n",
    "            new_df.tags.iloc[-1] = t\n",
    "    return(new_df)"
   ]
  }
 ],
 "metadata": {
  "kernelspec": {
   "display_name": "Python 3",
   "language": "python",
   "name": "python3"
  },
  "language_info": {
   "codemirror_mode": {
    "name": "ipython",
    "version": 3
   },
   "file_extension": ".py",
   "mimetype": "text/x-python",
   "name": "python",
   "nbconvert_exporter": "python",
   "pygments_lexer": "ipython3",
   "version": "3.8.3"
  },
  "toc": {
   "base_numbering": 1,
   "nav_menu": {},
   "number_sections": false,
   "sideBar": true,
   "skip_h1_title": true,
   "title_cell": "Table of Contents",
   "title_sidebar": "Contents",
   "toc_cell": true,
   "toc_position": {},
   "toc_section_display": true,
   "toc_window_display": true
  }
 },
 "nbformat": 4,
 "nbformat_minor": 5
}
