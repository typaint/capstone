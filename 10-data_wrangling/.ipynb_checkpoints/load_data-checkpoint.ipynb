{
 "cells": [
  {
   "cell_type": "markdown",
   "id": "4fc9864b",
   "metadata": {},
   "source": [
    "# Load Data"
   ]
  },
  {
   "cell_type": "code",
   "execution_count": null,
   "id": "a30f491c",
   "metadata": {},
   "outputs": [],
   "source": [
    "import pandas as pd\n",
    "import time, datetime\n",
    "import multiprocessing as mp\n",
    "from datetime import datetime as dt"
   ]
  },
  {
   "cell_type": "code",
   "execution_count": null,
   "id": "cb3b0a15",
   "metadata": {},
   "outputs": [],
   "source": [
    "start = time.time()\n",
    "# read data in chunks of 100k rows at a time\n",
    "chunk = pd.read_csv('../00-data/gdelt_data/2021/01-jan/gdelt_data2.csv', \n",
    "                    chunksize=100000, \n",
    "                    dtype={'3': 'str'}, # mixed data types\n",
    "                    index_col=[0]) # specify index column\n",
    "# iter_csv = pd.read_csv('file.csv', iterator=True, chunksize=1000)\n",
    "# df = pd.concat([chunk[chunk['field'] > constant] for chunk in iter_csv])\n",
    "df = pd.concat(chunk) # concat chunks together\n",
    "end = time.time()\n",
    "print(\"Read csv with chunks: \",(end-start),\"sec\")"
   ]
  },
  {
   "cell_type": "code",
   "execution_count": null,
   "id": "66350a36",
   "metadata": {},
   "outputs": [],
   "source": [
    "df[~df['1'].str.get(0).isin(['2'])]"
   ]
  },
  {
   "cell_type": "code",
   "execution_count": null,
   "id": "da9b70e2",
   "metadata": {},
   "outputs": [],
   "source": [
    "bad_rows = df[~df['1'].str.get(0).isin(['2'])].index\n",
    "bad_rows"
   ]
  },
  {
   "cell_type": "code",
   "execution_count": null,
   "id": "e3f1f64b",
   "metadata": {},
   "outputs": [],
   "source": [
    "len(bad_rows)"
   ]
  },
  {
   "cell_type": "code",
   "execution_count": null,
   "id": "0b96aa0e",
   "metadata": {},
   "outputs": [],
   "source": [
    "print(len(df))\n",
    "df = df.drop(index = bad_rows)\n",
    "print(len(df))"
   ]
  },
  {
   "cell_type": "code",
   "execution_count": null,
   "id": "8535d992",
   "metadata": {},
   "outputs": [],
   "source": [
    "df['1'] = [int(float(i)) for i in df['1']]"
   ]
  },
  {
   "cell_type": "code",
   "execution_count": null,
   "id": "5d5a0909",
   "metadata": {},
   "outputs": [],
   "source": [
    "df"
   ]
  }
 ],
 "metadata": {
  "kernelspec": {
   "display_name": "Python 3",
   "language": "python",
   "name": "python3"
  },
  "language_info": {
   "codemirror_mode": {
    "name": "ipython",
    "version": 3
   },
   "file_extension": ".py",
   "mimetype": "text/x-python",
   "name": "python",
   "nbconvert_exporter": "python",
   "pygments_lexer": "ipython3",
   "version": "3.8.3"
  },
  "toc": {
   "base_numbering": 1,
   "nav_menu": {},
   "number_sections": true,
   "sideBar": true,
   "skip_h1_title": false,
   "title_cell": "Table of Contents",
   "title_sidebar": "Contents",
   "toc_cell": false,
   "toc_position": {},
   "toc_section_display": true,
   "toc_window_display": false
  }
 },
 "nbformat": 4,
 "nbformat_minor": 5
}
