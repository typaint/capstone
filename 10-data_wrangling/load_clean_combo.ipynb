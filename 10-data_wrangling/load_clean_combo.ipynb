{
 "cells": [
  {
   "cell_type": "markdown",
   "id": "2a2cfc92",
   "metadata": {
    "toc": true
   },
   "source": [
    "<h1>Table of Contents<span class=\"tocSkip\"></span></h1>\n",
    "<div class=\"toc\"><ul class=\"toc-item\"><li><span><a href=\"#Load-Data\" data-toc-modified-id=\"Load-Data-1\">Load Data</a></span></li><li><span><a href=\"#Clean-data\" data-toc-modified-id=\"Clean-data-2\">Clean data</a></span></li><li><span><a href=\"#Test-Run\" data-toc-modified-id=\"Test-Run-3\">Test Run</a></span></li></ul></div>"
   ]
  },
  {
   "cell_type": "markdown",
   "id": "86fede36",
   "metadata": {},
   "source": [
    "## Load Data"
   ]
  },
  {
   "cell_type": "code",
   "execution_count": 1,
   "id": "ccbc6c14",
   "metadata": {},
   "outputs": [],
   "source": [
    "import pandas as pd\n",
    "import time, datetime\n",
    "import multiprocessing as mp\n",
    "from urllib.error import HTTPError\n",
    "\n",
    "def get_file_list(start, end):\n",
    "    all_files = []\n",
    "    url_1 = \"http://data.gdeltproject.org/gdeltv2/\" # first part of gdelt data link\n",
    "    url_3 = \".gkg.csv.zip\" # file type\n",
    "    end_time = pd.to_datetime(int(end), format='%Y%m%d%H%M%S')\n",
    "    start_time = pd.to_datetime(int(start), format='%Y%m%d%H%M%S')\n",
    "\n",
    "    while start_time < end_time:\n",
    "        url_2 = start_time.strftime(\"%Y%m%d%H%M%S\")\n",
    "        url = url_1 + url_2 + url_3 # combine URL parts\n",
    "        all_files.append(url)\n",
    "        start_time += datetime.timedelta(minutes = 15) # test adding 15 mins to timestamp\n",
    "        \n",
    "    return all_files\n",
    "    \n",
    "def load_all_files(file_list):\n",
    "    # blank list for files\n",
    "    list_df = []\n",
    "    bad_cols = [0,2,6,15,16,17,18,19,20,21,22,24,25,26]\n",
    "    cols = list(range(0,26))\n",
    "    #good_cols = [i for i in cols if i not in bad_cols]\n",
    "    good_cols = [1,3,4]\n",
    "    \n",
    "        # loop through all file names and load\n",
    "    for filename in file_list:\n",
    "        print(filename)\n",
    "        try:\n",
    "            df = pd.read_csv(filename, sep=\"\\t\", header=None, on_bad_lines=\"warn\", encoding = \"ISO-8859-1\", usecols = [i for i in good_cols])\n",
    "            list_df.append(df)\n",
    "#             df = pd.read_csv(filename, sep=\"\\t\", header=None, on_bad_lines=\"warn\", encoding= 'unicode_escape', usecols = [i for i in good_cols])\n",
    "#             list_df.append(df)\n",
    "        except UnicodeDecodeError:\n",
    "            df = pd.read_csv(filename, sep=\"\\t\", header=None, on_bad_lines=\"warn\", encoding= 'unicode_escape', usecols = [i for i in good_cols])\n",
    "            list_df.append(df)\n",
    "#             df = pd.read_csv(filename, sep=\"\\t\", header=None, on_bad_lines=\"warn\", encoding = \"ISO-8859-1\", usecols = [i for i in good_cols])\n",
    "#             list_df.append(df)\n",
    "        except UnicodeDecodeError:\n",
    "            df = pd.read_csv(filename, sep=\"\\t\", header=None, on_bad_lines=\"warn\", usecols = [i for i in good_cols])\n",
    "            list_df.append(df)\n",
    "        except HTTPError:\n",
    "            continue\n",
    "        \n",
    "    \n",
    "    # combine list of dataframes\n",
    "    frame = pd.concat(list_df, axis=0, ignore_index=True)\n",
    "    \n",
    "    return frame"
   ]
  },
  {
   "cell_type": "markdown",
   "id": "5510d76c",
   "metadata": {},
   "source": [
    "## Clean data"
   ]
  },
  {
   "cell_type": "code",
   "execution_count": 2,
   "id": "f7dc27ea",
   "metadata": {},
   "outputs": [],
   "source": [
    "def clean_data(raw_data):\n",
    "    df = raw_data[raw_data[1].notna()] # remove NA rows\n",
    "    df[1] = [str(int(float(i))) for i in df[1]] # convert date time stamp to str\n",
    "    year = df[1].str[0:4].astype(int) # extract year\n",
    "    month = df[1].str[4:6].astype(int) # extract month\n",
    "    day = df[1].str[6:8].astype(int) # extract day\n",
    "    df.insert(0, 'year', year) # create year column\n",
    "    df.insert(1, 'month', month) # create month column\n",
    "    df.insert(2, 'day', day) # create day column\n",
    "    df = df.rename(columns={3: \"website\", 4: 'url'}) # rename columns\n",
    "    df = df.drop(1, axis=1) # drop old date time stamp\n",
    "    website_list = ['reuters.com', 'yahoo.com', 'marketwatch.com', 'prnewswire.com']\n",
    "    df = df[df.website.isin(website_list)].reset_index(drop=True)\n",
    "    year_number = str(df.year.unique().item())\n",
    "    month_number = str(df.month.unique().item())\n",
    "    datetime_object = datetime.datetime.strptime(month_number, \"%m\")\n",
    "    month_name = datetime_object.strftime(\"%b\").lower()\n",
    "    file_name = 'gdelt_'+month_name+str(year_number)+'.csv'\n",
    "    df.to_csv('../00-data/gdelt_data/2021/'+file_name)\n",
    "    #df.to_csv(file_name)"
   ]
  },
  {
   "cell_type": "markdown",
   "id": "70fc5234",
   "metadata": {},
   "source": [
    "## Test Run"
   ]
  },
  {
   "cell_type": "code",
   "execution_count": 4,
   "id": "2e6771fa",
   "metadata": {
    "scrolled": false
   },
   "outputs": [
    {
     "name": "stdout",
     "output_type": "stream",
     "text": [
      "http://data.gdeltproject.org/gdeltv2/20220201000000.gkg.csv.zip\n",
      "http://data.gdeltproject.org/gdeltv2/20220201001500.gkg.csv.zip\n",
      "Downloaded and appended in 0.02 minutes\n",
      "Cleaned in 0.00 minutes\n"
     ]
    }
   ],
   "source": [
    "tic = time.perf_counter()\n",
    "all_files = get_file_list(\"20220201000000\", \"20220201003000\")\n",
    "raw_df = []\n",
    "raw_df = load_all_files(all_files)\n",
    "toc = time.perf_counter()\n",
    "print(f\"Downloaded and appended in {(toc - tic)/60:0.2f} minutes\")\n",
    "tic = time.perf_counter()\n",
    "clean_data(raw_df)\n",
    "toc = time.perf_counter()\n",
    "print(f\"Cleaned in {(toc - tic)/60:0.2f} minutes\")"
   ]
  }
 ],
 "metadata": {
  "kernelspec": {
   "display_name": "Python 3",
   "language": "python",
   "name": "python3"
  },
  "language_info": {
   "codemirror_mode": {
    "name": "ipython",
    "version": 3
   },
   "file_extension": ".py",
   "mimetype": "text/x-python",
   "name": "python",
   "nbconvert_exporter": "python",
   "pygments_lexer": "ipython3",
   "version": "3.8.3"
  },
  "toc": {
   "base_numbering": 1,
   "nav_menu": {},
   "number_sections": false,
   "sideBar": true,
   "skip_h1_title": true,
   "title_cell": "Table of Contents",
   "title_sidebar": "Contents",
   "toc_cell": true,
   "toc_position": {},
   "toc_section_display": true,
   "toc_window_display": true
  }
 },
 "nbformat": 4,
 "nbformat_minor": 5
}
