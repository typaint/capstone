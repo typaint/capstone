{
 "cells": [
  {
   "cell_type": "markdown",
   "id": "005b8189",
   "metadata": {
    "toc": true
   },
   "source": [
    "<h1>Table of Contents<span class=\"tocSkip\"></span></h1>\n",
    "<div class=\"toc\"><ul class=\"toc-item\"><li><span><a href=\"#Create-Aggregate-Features\" data-toc-modified-id=\"Create-Aggregate-Features-1\">Create Aggregate Features</a></span></li><li><span><a href=\"#Calculate-Next-Day-Return\" data-toc-modified-id=\"Calculate-Next-Day-Return-2\">Calculate Next Day Return</a></span></li><li><span><a href=\"#Iterate-Through-Month\" data-toc-modified-id=\"Iterate-Through-Month-3\">Iterate Through Month</a></span><ul class=\"toc-item\"><li><span><a href=\"#Construct-Long-Short-Portfolio\" data-toc-modified-id=\"Construct-Long-Short-Portfolio-3.1\">Construct Long-Short Portfolio</a></span></li><li><span><a href=\"#Top-&amp;-Bottom-Bin-Raw-Returns\" data-toc-modified-id=\"Top-&amp;-Bottom-Bin-Raw-Returns-3.2\">Top &amp; Bottom Bin Raw Returns</a></span></li><li><span><a href=\"#Top-&amp;-Bottom-Relative-Returns\" data-toc-modified-id=\"Top-&amp;-Bottom-Relative-Returns-3.3\">Top &amp; Bottom Relative Returns</a></span></li><li><span><a href=\"#Aggregate-Bin-Raw-Returns\" data-toc-modified-id=\"Aggregate-Bin-Raw-Returns-3.4\">Aggregate Bin Raw Returns</a></span></li><li><span><a href=\"#Portfolio-Raw-Returns\" data-toc-modified-id=\"Portfolio-Raw-Returns-3.5\">Portfolio Raw Returns</a></span></li></ul></li><li><span><a href=\"#3-Bins\" data-toc-modified-id=\"3-Bins-4\">3 Bins</a></span><ul class=\"toc-item\"><li><span><a href=\"#Portfolio\" data-toc-modified-id=\"Portfolio-4.1\">Portfolio</a></span></li><li><span><a href=\"#Bins\" data-toc-modified-id=\"Bins-4.2\">Bins</a></span></li></ul></li><li><span><a href=\"#5-Bins\" data-toc-modified-id=\"5-Bins-5\">5 Bins</a></span><ul class=\"toc-item\"><li><span><a href=\"#Portfolio\" data-toc-modified-id=\"Portfolio-5.1\">Portfolio</a></span></li><li><span><a href=\"#Bins\" data-toc-modified-id=\"Bins-5.2\">Bins</a></span></li></ul></li><li><span><a href=\"#10-Bins\" data-toc-modified-id=\"10-Bins-6\">10 Bins</a></span><ul class=\"toc-item\"><li><span><a href=\"#Portfolio\" data-toc-modified-id=\"Portfolio-6.1\">Portfolio</a></span></li><li><span><a href=\"#Bins\" data-toc-modified-id=\"Bins-6.2\">Bins</a></span></li></ul></li><li><span><a href=\"#Comparison\" data-toc-modified-id=\"Comparison-7\">Comparison</a></span><ul class=\"toc-item\"><li><span><a href=\"#Porfolios\" data-toc-modified-id=\"Porfolios-7.1\">Porfolios</a></span></li><li><span><a href=\"#Bins\" data-toc-modified-id=\"Bins-7.2\">Bins</a></span><ul class=\"toc-item\"><li><span><a href=\"#Raw\" data-toc-modified-id=\"Raw-7.2.1\">Raw</a></span></li></ul></li></ul></li></ul></div>"
   ]
  },
  {
   "cell_type": "code",
   "execution_count": 84,
   "id": "7f8eb78f",
   "metadata": {},
   "outputs": [],
   "source": [
    "import pandas as pd\n",
    "import numpy as np\n",
    "from sklearn.preprocessing import MinMaxScaler\n",
    "import datetime as dt\n",
    "import matplotlib.pyplot as plt\n",
    "import matplotlib.ticker as mtick\n",
    "import matplotlib.dates as mdates"
   ]
  },
  {
   "cell_type": "code",
   "execution_count": 85,
   "id": "2599c599",
   "metadata": {
    "scrolled": true
   },
   "outputs": [
    {
     "data": {
      "text/html": [
       "<div>\n",
       "<style scoped>\n",
       "    .dataframe tbody tr th:only-of-type {\n",
       "        vertical-align: middle;\n",
       "    }\n",
       "\n",
       "    .dataframe tbody tr th {\n",
       "        vertical-align: top;\n",
       "    }\n",
       "\n",
       "    .dataframe thead th {\n",
       "        text-align: right;\n",
       "    }\n",
       "</style>\n",
       "<table border=\"1\" class=\"dataframe\">\n",
       "  <thead>\n",
       "    <tr style=\"text-align: right;\">\n",
       "      <th></th>\n",
       "      <th>date</th>\n",
       "      <th>tags</th>\n",
       "      <th>ticker</th>\n",
       "      <th>volume</th>\n",
       "      <th>pos_mean</th>\n",
       "      <th>pos_median</th>\n",
       "      <th>pos_min</th>\n",
       "      <th>pos_max</th>\n",
       "      <th>neg_mean</th>\n",
       "      <th>neg_median</th>\n",
       "      <th>...</th>\n",
       "      <th>net_median</th>\n",
       "      <th>net_min</th>\n",
       "      <th>net_max</th>\n",
       "      <th>read_score</th>\n",
       "      <th>same_day_raw</th>\n",
       "      <th>next_day_raw</th>\n",
       "      <th>sp_avg_return</th>\n",
       "      <th>next_day_sp</th>\n",
       "      <th>same_day_relative</th>\n",
       "      <th>next_day_relative</th>\n",
       "    </tr>\n",
       "  </thead>\n",
       "  <tbody>\n",
       "    <tr>\n",
       "      <th>0</th>\n",
       "      <td>2021-01-04</td>\n",
       "      <td>A</td>\n",
       "      <td>A</td>\n",
       "      <td>2.0</td>\n",
       "      <td>0.110000</td>\n",
       "      <td>0.000000</td>\n",
       "      <td>0.0</td>\n",
       "      <td>1.000000</td>\n",
       "      <td>0.015000</td>\n",
       "      <td>0.0</td>\n",
       "      <td>...</td>\n",
       "      <td>0.000000</td>\n",
       "      <td>-0.500000</td>\n",
       "      <td>1.000000</td>\n",
       "      <td>0.217502</td>\n",
       "      <td>0.252231</td>\n",
       "      <td>-0.953746</td>\n",
       "      <td>1.933110</td>\n",
       "      <td>-1.031859</td>\n",
       "      <td>-1.680879</td>\n",
       "      <td>0.135142</td>\n",
       "    </tr>\n",
       "    <tr>\n",
       "      <th>1</th>\n",
       "      <td>2021-01-04</td>\n",
       "      <td>AAL</td>\n",
       "      <td>AAL</td>\n",
       "      <td>1.0</td>\n",
       "      <td>0.100000</td>\n",
       "      <td>0.000000</td>\n",
       "      <td>0.0</td>\n",
       "      <td>1.000000</td>\n",
       "      <td>0.030000</td>\n",
       "      <td>0.0</td>\n",
       "      <td>...</td>\n",
       "      <td>0.000000</td>\n",
       "      <td>-1.000000</td>\n",
       "      <td>1.000000</td>\n",
       "      <td>0.149566</td>\n",
       "      <td>4.542587</td>\n",
       "      <td>-3.418231</td>\n",
       "      <td>1.933110</td>\n",
       "      <td>-1.031859</td>\n",
       "      <td>2.609477</td>\n",
       "      <td>-2.073725</td>\n",
       "    </tr>\n",
       "    <tr>\n",
       "      <th>2</th>\n",
       "      <td>2021-01-04</td>\n",
       "      <td>AAPL</td>\n",
       "      <td>AAPL</td>\n",
       "      <td>21.0</td>\n",
       "      <td>0.111429</td>\n",
       "      <td>0.000000</td>\n",
       "      <td>0.0</td>\n",
       "      <td>0.851429</td>\n",
       "      <td>0.122381</td>\n",
       "      <td>0.0</td>\n",
       "      <td>...</td>\n",
       "      <td>0.000000</td>\n",
       "      <td>-0.672857</td>\n",
       "      <td>0.851429</td>\n",
       "      <td>0.269487</td>\n",
       "      <td>3.078190</td>\n",
       "      <td>-1.644810</td>\n",
       "      <td>1.933110</td>\n",
       "      <td>-1.031859</td>\n",
       "      <td>1.145081</td>\n",
       "      <td>-0.064243</td>\n",
       "    </tr>\n",
       "    <tr>\n",
       "      <th>3</th>\n",
       "      <td>2021-01-04</td>\n",
       "      <td>ABBV</td>\n",
       "      <td>ABBV</td>\n",
       "      <td>5.0</td>\n",
       "      <td>0.034000</td>\n",
       "      <td>0.000000</td>\n",
       "      <td>0.0</td>\n",
       "      <td>0.600000</td>\n",
       "      <td>0.048000</td>\n",
       "      <td>0.0</td>\n",
       "      <td>...</td>\n",
       "      <td>0.000000</td>\n",
       "      <td>-0.600000</td>\n",
       "      <td>0.600000</td>\n",
       "      <td>0.243894</td>\n",
       "      <td>1.651424</td>\n",
       "      <td>-1.034054</td>\n",
       "      <td>1.933110</td>\n",
       "      <td>-1.031859</td>\n",
       "      <td>-0.281686</td>\n",
       "      <td>1.948018</td>\n",
       "    </tr>\n",
       "    <tr>\n",
       "      <th>4</th>\n",
       "      <td>2021-01-04</td>\n",
       "      <td>ABT</td>\n",
       "      <td>ABT</td>\n",
       "      <td>4.0</td>\n",
       "      <td>0.312500</td>\n",
       "      <td>0.115000</td>\n",
       "      <td>0.0</td>\n",
       "      <td>1.000000</td>\n",
       "      <td>0.015000</td>\n",
       "      <td>0.0</td>\n",
       "      <td>...</td>\n",
       "      <td>0.115000</td>\n",
       "      <td>-0.247500</td>\n",
       "      <td>1.000000</td>\n",
       "      <td>0.409763</td>\n",
       "      <td>0.383455</td>\n",
       "      <td>-1.479101</td>\n",
       "      <td>1.933110</td>\n",
       "      <td>-1.031859</td>\n",
       "      <td>-1.549655</td>\n",
       "      <td>0.236260</td>\n",
       "    </tr>\n",
       "    <tr>\n",
       "      <th>...</th>\n",
       "      <td>...</td>\n",
       "      <td>...</td>\n",
       "      <td>...</td>\n",
       "      <td>...</td>\n",
       "      <td>...</td>\n",
       "      <td>...</td>\n",
       "      <td>...</td>\n",
       "      <td>...</td>\n",
       "      <td>...</td>\n",
       "      <td>...</td>\n",
       "      <td>...</td>\n",
       "      <td>...</td>\n",
       "      <td>...</td>\n",
       "      <td>...</td>\n",
       "      <td>...</td>\n",
       "      <td>...</td>\n",
       "      <td>...</td>\n",
       "      <td>...</td>\n",
       "      <td>...</td>\n",
       "      <td>...</td>\n",
       "      <td>...</td>\n",
       "    </tr>\n",
       "    <tr>\n",
       "      <th>9821</th>\n",
       "      <td>2021-01-29</td>\n",
       "      <td>YUM</td>\n",
       "      <td>YUM</td>\n",
       "      <td>2.2</td>\n",
       "      <td>0.295500</td>\n",
       "      <td>0.199333</td>\n",
       "      <td>0.0</td>\n",
       "      <td>0.985000</td>\n",
       "      <td>0.028667</td>\n",
       "      <td>0.0</td>\n",
       "      <td>...</td>\n",
       "      <td>0.197333</td>\n",
       "      <td>-0.462667</td>\n",
       "      <td>0.985000</td>\n",
       "      <td>0.362005</td>\n",
       "      <td>0.587715</td>\n",
       "      <td>-0.802034</td>\n",
       "      <td>1.388965</td>\n",
       "      <td>-0.469278</td>\n",
       "      <td>-0.801250</td>\n",
       "      <td>1.773387</td>\n",
       "    </tr>\n",
       "    <tr>\n",
       "      <th>9822</th>\n",
       "      <td>2021-01-29</td>\n",
       "      <td>ZBH</td>\n",
       "      <td>ZBH</td>\n",
       "      <td>2.0</td>\n",
       "      <td>0.263333</td>\n",
       "      <td>0.000000</td>\n",
       "      <td>0.0</td>\n",
       "      <td>0.766667</td>\n",
       "      <td>0.079000</td>\n",
       "      <td>0.0</td>\n",
       "      <td>...</td>\n",
       "      <td>0.000000</td>\n",
       "      <td>-0.766667</td>\n",
       "      <td>0.766667</td>\n",
       "      <td>0.345520</td>\n",
       "      <td>1.493591</td>\n",
       "      <td>0.626332</td>\n",
       "      <td>1.388965</td>\n",
       "      <td>-0.469278</td>\n",
       "      <td>0.104626</td>\n",
       "      <td>0.192627</td>\n",
       "    </tr>\n",
       "    <tr>\n",
       "      <th>9823</th>\n",
       "      <td>2021-01-29</td>\n",
       "      <td>ZBRA</td>\n",
       "      <td>ZBRA</td>\n",
       "      <td>0.8</td>\n",
       "      <td>0.017500</td>\n",
       "      <td>0.000000</td>\n",
       "      <td>0.0</td>\n",
       "      <td>0.100000</td>\n",
       "      <td>0.023000</td>\n",
       "      <td>0.0</td>\n",
       "      <td>...</td>\n",
       "      <td>0.000000</td>\n",
       "      <td>-0.222000</td>\n",
       "      <td>0.100000</td>\n",
       "      <td>0.112321</td>\n",
       "      <td>0.635395</td>\n",
       "      <td>-1.445087</td>\n",
       "      <td>1.388965</td>\n",
       "      <td>-0.469278</td>\n",
       "      <td>-0.753570</td>\n",
       "      <td>-1.527676</td>\n",
       "    </tr>\n",
       "    <tr>\n",
       "      <th>9824</th>\n",
       "      <td>2021-01-29</td>\n",
       "      <td>ZION</td>\n",
       "      <td>ZION</td>\n",
       "      <td>0.0</td>\n",
       "      <td>0.000000</td>\n",
       "      <td>0.000000</td>\n",
       "      <td>0.0</td>\n",
       "      <td>0.000000</td>\n",
       "      <td>0.000000</td>\n",
       "      <td>0.0</td>\n",
       "      <td>...</td>\n",
       "      <td>0.000000</td>\n",
       "      <td>0.000000</td>\n",
       "      <td>0.000000</td>\n",
       "      <td>0.000000</td>\n",
       "      <td>2.539196</td>\n",
       "      <td>-0.607700</td>\n",
       "      <td>1.388965</td>\n",
       "      <td>-0.469278</td>\n",
       "      <td>1.150231</td>\n",
       "      <td>-1.288998</td>\n",
       "    </tr>\n",
       "    <tr>\n",
       "      <th>9825</th>\n",
       "      <td>2021-01-29</td>\n",
       "      <td>ZTS</td>\n",
       "      <td>ZTS</td>\n",
       "      <td>0.4</td>\n",
       "      <td>0.024000</td>\n",
       "      <td>0.000000</td>\n",
       "      <td>0.0</td>\n",
       "      <td>0.200000</td>\n",
       "      <td>0.000000</td>\n",
       "      <td>0.0</td>\n",
       "      <td>...</td>\n",
       "      <td>0.000000</td>\n",
       "      <td>0.000000</td>\n",
       "      <td>0.200000</td>\n",
       "      <td>0.077671</td>\n",
       "      <td>0.899450</td>\n",
       "      <td>0.396924</td>\n",
       "      <td>1.388965</td>\n",
       "      <td>-0.469278</td>\n",
       "      <td>-0.489515</td>\n",
       "      <td>1.747358</td>\n",
       "    </tr>\n",
       "  </tbody>\n",
       "</table>\n",
       "<p>9826 rows × 27 columns</p>\n",
       "</div>"
      ],
      "text/plain": [
       "            date  tags ticker  volume  pos_mean  pos_median  pos_min  \\\n",
       "0     2021-01-04     A      A     2.0  0.110000    0.000000      0.0   \n",
       "1     2021-01-04   AAL    AAL     1.0  0.100000    0.000000      0.0   \n",
       "2     2021-01-04  AAPL   AAPL    21.0  0.111429    0.000000      0.0   \n",
       "3     2021-01-04  ABBV   ABBV     5.0  0.034000    0.000000      0.0   \n",
       "4     2021-01-04   ABT    ABT     4.0  0.312500    0.115000      0.0   \n",
       "...          ...   ...    ...     ...       ...         ...      ...   \n",
       "9821  2021-01-29   YUM    YUM     2.2  0.295500    0.199333      0.0   \n",
       "9822  2021-01-29   ZBH    ZBH     2.0  0.263333    0.000000      0.0   \n",
       "9823  2021-01-29  ZBRA   ZBRA     0.8  0.017500    0.000000      0.0   \n",
       "9824  2021-01-29  ZION   ZION     0.0  0.000000    0.000000      0.0   \n",
       "9825  2021-01-29   ZTS    ZTS     0.4  0.024000    0.000000      0.0   \n",
       "\n",
       "       pos_max  neg_mean  neg_median  ...  net_median   net_min   net_max  \\\n",
       "0     1.000000  0.015000         0.0  ...    0.000000 -0.500000  1.000000   \n",
       "1     1.000000  0.030000         0.0  ...    0.000000 -1.000000  1.000000   \n",
       "2     0.851429  0.122381         0.0  ...    0.000000 -0.672857  0.851429   \n",
       "3     0.600000  0.048000         0.0  ...    0.000000 -0.600000  0.600000   \n",
       "4     1.000000  0.015000         0.0  ...    0.115000 -0.247500  1.000000   \n",
       "...        ...       ...         ...  ...         ...       ...       ...   \n",
       "9821  0.985000  0.028667         0.0  ...    0.197333 -0.462667  0.985000   \n",
       "9822  0.766667  0.079000         0.0  ...    0.000000 -0.766667  0.766667   \n",
       "9823  0.100000  0.023000         0.0  ...    0.000000 -0.222000  0.100000   \n",
       "9824  0.000000  0.000000         0.0  ...    0.000000  0.000000  0.000000   \n",
       "9825  0.200000  0.000000         0.0  ...    0.000000  0.000000  0.200000   \n",
       "\n",
       "      read_score  same_day_raw  next_day_raw  sp_avg_return  next_day_sp  \\\n",
       "0       0.217502      0.252231     -0.953746       1.933110    -1.031859   \n",
       "1       0.149566      4.542587     -3.418231       1.933110    -1.031859   \n",
       "2       0.269487      3.078190     -1.644810       1.933110    -1.031859   \n",
       "3       0.243894      1.651424     -1.034054       1.933110    -1.031859   \n",
       "4       0.409763      0.383455     -1.479101       1.933110    -1.031859   \n",
       "...          ...           ...           ...            ...          ...   \n",
       "9821    0.362005      0.587715     -0.802034       1.388965    -0.469278   \n",
       "9822    0.345520      1.493591      0.626332       1.388965    -0.469278   \n",
       "9823    0.112321      0.635395     -1.445087       1.388965    -0.469278   \n",
       "9824    0.000000      2.539196     -0.607700       1.388965    -0.469278   \n",
       "9825    0.077671      0.899450      0.396924       1.388965    -0.469278   \n",
       "\n",
       "      same_day_relative  next_day_relative  \n",
       "0             -1.680879           0.135142  \n",
       "1              2.609477          -2.073725  \n",
       "2              1.145081          -0.064243  \n",
       "3             -0.281686           1.948018  \n",
       "4             -1.549655           0.236260  \n",
       "...                 ...                ...  \n",
       "9821          -0.801250           1.773387  \n",
       "9822           0.104626           0.192627  \n",
       "9823          -0.753570          -1.527676  \n",
       "9824           1.150231          -1.288998  \n",
       "9825          -0.489515           1.747358  \n",
       "\n",
       "[9826 rows x 27 columns]"
      ]
     },
     "execution_count": 85,
     "metadata": {},
     "output_type": "execute_result"
    }
   ],
   "source": [
    "df = pd.read_csv(\"../00-data/portfolio_data/2021/portfolio_jan2021.csv\")\n",
    "df"
   ]
  },
  {
   "cell_type": "code",
   "execution_count": 86,
   "id": "e35400a6",
   "metadata": {},
   "outputs": [
    {
     "data": {
      "text/plain": [
       "Index(['date', 'tags', 'ticker', 'volume', 'pos_mean', 'pos_median', 'pos_min',\n",
       "       'pos_max', 'neg_mean', 'neg_median', 'neg_min', 'neg_max', 'neu_mean',\n",
       "       'neu_median', 'neu_min', 'neu_max', 'net_mean', 'net_median', 'net_min',\n",
       "       'net_max', 'read_score', 'same_day_raw', 'next_day_raw',\n",
       "       'sp_avg_return', 'next_day_sp', 'same_day_relative',\n",
       "       'next_day_relative'],\n",
       "      dtype='object')"
      ]
     },
     "execution_count": 86,
     "metadata": {},
     "output_type": "execute_result"
    }
   ],
   "source": [
    "df.columns"
   ]
  },
  {
   "cell_type": "markdown",
   "id": "c0a67347",
   "metadata": {},
   "source": [
    "## Create Aggregate Features"
   ]
  },
  {
   "cell_type": "code",
   "execution_count": 87,
   "id": "23e892a4",
   "metadata": {},
   "outputs": [],
   "source": [
    "# df.columns"
   ]
  },
  {
   "cell_type": "code",
   "execution_count": 88,
   "id": "5622a929",
   "metadata": {},
   "outputs": [],
   "source": [
    "# neg_cols = ['neg_mean', 'neg_median', 'neg_min', 'neg_max']"
   ]
  },
  {
   "cell_type": "code",
   "execution_count": 89,
   "id": "8090feb8",
   "metadata": {},
   "outputs": [],
   "source": [
    "# df[neg_cols] = df[neg_cols] * -1"
   ]
  },
  {
   "cell_type": "code",
   "execution_count": 90,
   "id": "ce86a650",
   "metadata": {},
   "outputs": [],
   "source": [
    "# df.head()"
   ]
  },
  {
   "cell_type": "code",
   "execution_count": 91,
   "id": "49849ed2",
   "metadata": {},
   "outputs": [],
   "source": [
    "# agg_cols = ['volume', 'pos_mean', 'pos_median', 'pos_min',\n",
    "#        'pos_max', 'neg_mean', 'neg_median', 'neg_min', 'neg_max', 'neu_mean',\n",
    "#        'neu_median', 'neu_min', 'neu_max', 'net_mean', 'net_median', 'net_min',\n",
    "#        'net_max', 'read_score']"
   ]
  },
  {
   "cell_type": "code",
   "execution_count": 92,
   "id": "93ab409f",
   "metadata": {},
   "outputs": [],
   "source": [
    "# scaler = MinMaxScaler()\n",
    "# scaled_df = scaler.fit_transform(df[agg_cols].to_numpy())\n",
    "# scaled_df = pd.DataFrame(scaled_df, columns=agg_cols)\n",
    "# scaled_df.head()"
   ]
  },
  {
   "cell_type": "code",
   "execution_count": 93,
   "id": "e850b701",
   "metadata": {},
   "outputs": [],
   "source": [
    "# scaled_df['agg_score'] = scaled_df[agg_cols].mean(axis=1)\n",
    "# scaled_df = scaled_df.drop(agg_cols,axis=1)\n",
    "# scaled_df.head()"
   ]
  },
  {
   "cell_type": "code",
   "execution_count": 94,
   "id": "652adff3",
   "metadata": {},
   "outputs": [],
   "source": [
    "# agg_df = df.join(scaled_df).drop(agg_cols,axis=1)\n",
    "# agg_df.head()"
   ]
  },
  {
   "cell_type": "markdown",
   "id": "8f5c7889",
   "metadata": {},
   "source": [
    "## Calculate Next Day Return"
   ]
  },
  {
   "cell_type": "code",
   "execution_count": 95,
   "id": "8d26ced7",
   "metadata": {},
   "outputs": [],
   "source": [
    "# sorted_df = agg_df.groupby(\"date\").apply(lambda x: x.sort_values(\"agg_score\", ascending=False)).reset_index(drop=True)\n",
    "# sorted_df"
   ]
  },
  {
   "cell_type": "code",
   "execution_count": 96,
   "id": "bacda8b1",
   "metadata": {},
   "outputs": [],
   "source": [
    "# bin3_len = len(df[df.date == '2021-01-04'])//3\n",
    "# bin3_len"
   ]
  },
  {
   "cell_type": "code",
   "execution_count": 97,
   "id": "6993735d",
   "metadata": {},
   "outputs": [],
   "source": [
    "# top_bin = sorted_df[sorted_df.date == '2021-01-04'].head(bin3_len)\n",
    "# top_bin"
   ]
  },
  {
   "cell_type": "code",
   "execution_count": 98,
   "id": "ef5a65f6",
   "metadata": {},
   "outputs": [],
   "source": [
    "# top_bin.next_day_relative.mean()"
   ]
  },
  {
   "cell_type": "code",
   "execution_count": 99,
   "id": "460599fe",
   "metadata": {},
   "outputs": [],
   "source": [
    "# bottom_bin = sorted_df[sorted_df.date == '2021-01-04'].tail(bin3_len)\n",
    "# bottom_bin"
   ]
  },
  {
   "cell_type": "code",
   "execution_count": 100,
   "id": "0e2b2d91",
   "metadata": {},
   "outputs": [],
   "source": [
    "# -bottom_bin.next_day_relative.mean()"
   ]
  },
  {
   "cell_type": "markdown",
   "id": "3742f15b",
   "metadata": {},
   "source": [
    "## Iterate Through Month"
   ]
  },
  {
   "cell_type": "markdown",
   "id": "6c4b5b90",
   "metadata": {},
   "source": [
    "### Construct Long-Short Portfolio"
   ]
  },
  {
   "cell_type": "code",
   "execution_count": 101,
   "id": "e4131a02",
   "metadata": {},
   "outputs": [],
   "source": [
    "def long_short_portfolio(df, bin_size):\n",
    "    # date list\n",
    "    date_list = []\n",
    "    # portfolio returns\n",
    "    top_return = []\n",
    "    bottom_return = []\n",
    "    portfolio_return = []\n",
    "    # S&P 500 return\n",
    "    sp_return = []\n",
    "    \n",
    "    # create aggregate features\n",
    "    agg_cols = ['volume', 'pos_mean', 'pos_median', 'pos_min',\n",
    "       'pos_max', 'neg_mean', 'neg_median', 'neg_min', 'neg_max', 'neu_mean',\n",
    "       'neu_median', 'neu_min', 'neu_max', 'net_mean', 'net_median', 'net_min',\n",
    "       'net_max', 'read_score']\n",
    "    # scale score features\n",
    "    scaler = MinMaxScaler()\n",
    "    scaled_df = scaler.fit_transform(df[agg_cols].to_numpy())\n",
    "    scaled_df = pd.DataFrame(scaled_df, columns=agg_cols)\n",
    "    # aggregate features\n",
    "    scaled_df['agg_score'] = scaled_df[agg_cols].mean(axis=1)\n",
    "    scaled_df = scaled_df.drop(agg_cols,axis=1)\n",
    "    # join and drop original columns\n",
    "    agg_df = df.join(scaled_df).drop(agg_cols,axis=1)\n",
    "    \n",
    "    # sort by agg_score for each date\n",
    "    sorted_df = agg_df.groupby(\"date\").apply(lambda x: x.sort_values(\"agg_score\", ascending=False)).reset_index(drop=True)\n",
    "    # find unique dates\n",
    "    date_vals = df.date.unique()\n",
    "    for date in date_vals:\n",
    "        # set bin lengths\n",
    "        bin_len = len(df[df.date == date])//bin_size\n",
    "\n",
    "        # create top bin for long position\n",
    "        top_bin = sorted_df[sorted_df.date == date].head(bin_len)\n",
    "        # calculate next day return\n",
    "        top_return.append(top_bin.next_day_raw.mean()/100)\n",
    "\n",
    "        # create bottom bin to short\n",
    "        bottom_bin = sorted_df[sorted_df.date == date].tail(bin_len)\n",
    "        bottom_return.append(-bottom_bin.next_day_raw.mean()/100) # negative for short position\n",
    "\n",
    "        # calculate next day total return\n",
    "        portfolio_return.append(top_return[-1] + bottom_return[-1])\n",
    "        \n",
    "        # append dates\n",
    "        date_list.append(date)\n",
    "#         # calculate next day total return\n",
    "#         total_return.append(top_return + bottom_return)\n",
    "        # calculate next day sp return\n",
    "        sp_return.append(df[df.date==date].next_day_sp.unique()[0]/100)\n",
    "    \n",
    "    # create dataframe\n",
    "    portfolio_df = pd.DataFrame() \n",
    "    portfolio_df[\"date\"] = date_list\n",
    "    portfolio_df[\"portfolio\"] = portfolio_return\n",
    "    portfolio_df[\"top\"] = top_return\n",
    "    portfolio_df[\"bottom\"] = bottom_return\n",
    "    portfolio_df['sp'] = sp_return\n",
    "    \n",
    "    return(portfolio_df)"
   ]
  },
  {
   "cell_type": "markdown",
   "id": "4c954031",
   "metadata": {},
   "source": [
    "### Top & Bottom Bin Raw Returns"
   ]
  },
  {
   "cell_type": "code",
   "execution_count": 102,
   "id": "01b84024",
   "metadata": {},
   "outputs": [],
   "source": [
    "def tb_raw(bin_df):  \n",
    "    t_list = [1]\n",
    "    b_list = [1]\n",
    "    for i in range(len(bin_df)):\n",
    "        # top bin running returns\n",
    "        new_t = t_list[-1] + t_list[-1] * bin_df.top[i]\n",
    "        t_list.append(new_t)\n",
    "        \n",
    "        # bottom bin running returns\n",
    "        new_b = b_list[-1] + b_list[-1] * bin_df.bottom[i]\n",
    "        b_list.append(new_b)\n",
    "        \n",
    "        # turn returns into precents\n",
    "        t_returns = (np.array(t_list)-1)*100\n",
    "        b_returns = (np.array(b_list)-1)*100\n",
    "        \n",
    "    return (t_returns, b_returns)"
   ]
  },
  {
   "cell_type": "markdown",
   "id": "f07ccbb0",
   "metadata": {},
   "source": [
    "### Aggregate Bin Raw Returns"
   ]
  },
  {
   "cell_type": "code",
   "execution_count": 104,
   "id": "85f1ad4a",
   "metadata": {},
   "outputs": [],
   "source": [
    "# import numpy as np"
   ]
  },
  {
   "cell_type": "code",
   "execution_count": 105,
   "id": "25288c55",
   "metadata": {},
   "outputs": [],
   "source": [
    "# np.array([100,101,105]) / 100-1"
   ]
  },
  {
   "cell_type": "code",
   "execution_count": 106,
   "id": "2eba1988",
   "metadata": {},
   "outputs": [],
   "source": [
    "# def portfolio_raw(bin_df):  \n",
    "#     t_list = [100]\n",
    "#     b_list = [100]\n",
    "#     sp_list = [100]\n",
    "#     for i in range(len(bin_df)):\n",
    "#         # top bin running returns\n",
    "#         new_t = t_list[-1] + t_list[-1] * bin_df.top[i]\n",
    "#         t_list.append(new_t)\n",
    "        \n",
    "#         # bottom bin running returns\n",
    "#         new_b = b_list[-1] + b_list[-1] * bin_df.bottom[i]\n",
    "#         b_list.append(new_b)\n",
    "        \n",
    "#         # sp running returns\n",
    "#         new_sp = sp_list[-1] + sp_list[-1] * bin_df.sp[i]\n",
    "#         sp_list.append(new_sp)\n",
    "        \n",
    "#         # turn returns into precents\n",
    "#         t_returns = np.array(t_list/100-1)\n",
    "#         b_returns = np.array(b_list/100-1)\n",
    "#         sp_returns = np.array(sp_list/100-1)\n",
    "        \n",
    "#     return (t_returns, b_returns, sp_returns)"
   ]
  },
  {
   "cell_type": "markdown",
   "id": "85d1f384",
   "metadata": {},
   "source": [
    "### Portfolio Raw Returns"
   ]
  },
  {
   "cell_type": "code",
   "execution_count": 107,
   "id": "46eb686c",
   "metadata": {},
   "outputs": [],
   "source": [
    "def portfolio_raw(bin_df):  \n",
    "    p_list = [1]\n",
    "    sp_list = [1]\n",
    "    for i in range(len(bin_df)):\n",
    "        \n",
    "        # sp running returns\n",
    "        new_p = p_list[-1] + p_list[-1] * bin_df.portfolio[i]\n",
    "        p_list.append(new_p)\n",
    "        \n",
    "        # sp running returns\n",
    "        new_sp = sp_list[-1] + sp_list[-1] * bin_df.sp[i]\n",
    "        sp_list.append(new_sp)\n",
    "        \n",
    "        # turn returns into precents\n",
    "        p_returns = (np.array(p_list)-1)*100\n",
    "        sp_returns = (np.array(sp_list)-1)*100\n",
    "        \n",
    "    return (p_returns, sp_returns)"
   ]
  },
  {
   "cell_type": "markdown",
   "id": "ce398113",
   "metadata": {},
   "source": [
    "## 3 Bins"
   ]
  },
  {
   "cell_type": "markdown",
   "id": "24eb45ed",
   "metadata": {},
   "source": [
    "### Portfolio"
   ]
  },
  {
   "cell_type": "code",
   "execution_count": 108,
   "id": "3fdfbe96",
   "metadata": {},
   "outputs": [],
   "source": [
    "bin3_df = long_short_portfolio(df, 3)\n",
    "p3, sp = portfolio_raw(bin3_df)"
   ]
  },
  {
   "cell_type": "markdown",
   "id": "46832bd0",
   "metadata": {},
   "source": [
    "### Bins"
   ]
  },
  {
   "cell_type": "code",
   "execution_count": 109,
   "id": "720b3b39",
   "metadata": {},
   "outputs": [],
   "source": [
    "t3, b3 = tb_raw(bin3_df)"
   ]
  },
  {
   "cell_type": "code",
   "execution_count": 110,
   "id": "98084d63",
   "metadata": {},
   "outputs": [],
   "source": [
    "from datetime import datetime\n",
    "date_list = list(bin3_df.date)\n",
    "date_list.insert(0,'2021-01-03')\n",
    "date_list = [dt.datetime.strptime(dd,\"%Y-%m-%d\").date() for dd in date_list]"
   ]
  },
  {
   "cell_type": "markdown",
   "id": "b7a27025",
   "metadata": {},
   "source": [
    "## 5 Bins"
   ]
  },
  {
   "cell_type": "markdown",
   "id": "f521368b",
   "metadata": {},
   "source": [
    "### Portfolio"
   ]
  },
  {
   "cell_type": "code",
   "execution_count": 111,
   "id": "876b354e",
   "metadata": {},
   "outputs": [],
   "source": [
    "bin5_df = long_short_portfolio(df, 5)\n",
    "p5, sp = portfolio_raw(bin5_df)"
   ]
  },
  {
   "cell_type": "markdown",
   "id": "d4e35ac2",
   "metadata": {},
   "source": [
    "### Bins"
   ]
  },
  {
   "cell_type": "code",
   "execution_count": 112,
   "id": "715be179",
   "metadata": {},
   "outputs": [],
   "source": [
    "t5, b5 = tb_raw(bin5_df)"
   ]
  },
  {
   "cell_type": "markdown",
   "id": "f86ceb71",
   "metadata": {},
   "source": [
    "## 10 Bins"
   ]
  },
  {
   "cell_type": "markdown",
   "id": "cd15591c",
   "metadata": {},
   "source": [
    "### Portfolio"
   ]
  },
  {
   "cell_type": "code",
   "execution_count": 113,
   "id": "f6704921",
   "metadata": {},
   "outputs": [],
   "source": [
    "bin10_df = long_short_portfolio(df, 10)\n",
    "p10, sp = portfolio_raw(bin10_df)"
   ]
  },
  {
   "cell_type": "markdown",
   "id": "7eebf1fc",
   "metadata": {},
   "source": [
    "### Bins"
   ]
  },
  {
   "cell_type": "code",
   "execution_count": 114,
   "id": "8a2f13c9",
   "metadata": {},
   "outputs": [],
   "source": [
    "t10, b10 = tb_raw(bin10_df)"
   ]
  },
  {
   "cell_type": "markdown",
   "id": "3662ac5e",
   "metadata": {},
   "source": [
    "## Comparison"
   ]
  },
  {
   "cell_type": "markdown",
   "id": "1af81dd6",
   "metadata": {},
   "source": [
    "### Porfolios"
   ]
  },
  {
   "cell_type": "code",
   "execution_count": 115,
   "id": "32b31cb0",
   "metadata": {
    "scrolled": true
   },
   "outputs": [
    {
     "data": {
      "image/png": "[encoded data removed]",
      "text/plain": [
       "<Figure size 504x288 with 1 Axes>"
      ]
     },
     "metadata": {
      "needs_background": "light"
     },
     "output_type": "display_data"
    }
   ],
   "source": [
    "from matplotlib.dates import DateFormatter, DayLocator, MonthLocator\n",
    "# ‘solid’ | ‘dashed’, ‘dashdot’, ‘dotted’ \n",
    "#with plt.xkcd():  \n",
    "fig = plt.figure(1, (7,4))\n",
    "ax = fig.add_subplot(1,1,1)\n",
    "ax.plot(date_list,p3,color=\"black\",label=\"3 Bins\", ls=\"dashed\")\n",
    "ax.plot(date_list,p5,color=\"black\",label=\"5 Bins\", ls=\"solid\")\n",
    "ax.plot(date_list,p10,color=\"black\",label=\"10 Bins\", ls=\"dotted\")\n",
    "ax.plot(date_list,sp,color=\"red\",label=\"S&P 500 Avg\")\n",
    "ax.legend(loc=\"lower left\")\n",
    "ax.set_ylabel(\"Return\")\n",
    "ax.set_xlabel(\"Date\")\n",
    "yfmt = '%.0f%%' # Format you want the ticks, e.g. '40%'\n",
    "yticks = mtick.FormatStrFormatter(yfmt)\n",
    "ax.yaxis.set_major_formatter(yticks)\n",
    "xfmt = mdates.DateFormatter('%m-%d')\n",
    "ax.xaxis.set_major_formatter(xfmt)\n",
    "ax.set_title(\"January 2021 Returns\")\n",
    "plt.grid(True)"
   ]
  },
  {
   "cell_type": "code",
   "execution_count": 116,
   "id": "0f7a05be",
   "metadata": {},
   "outputs": [
    {
     "name": "stdout",
     "output_type": "stream",
     "text": [
      "3 Bin Raw Return: 1.28%\n",
      "5 Bin Raw Return: 1.11%\n",
      "10 Bin Raw Return: 2.12%\n",
      "S&P 500 Raw Return: -1.52%\n"
     ]
    }
   ],
   "source": [
    "print(\"3 Bin Raw Return: \" + str(round(p3[-1],2)) + \"%\")\n",
    "print(\"5 Bin Raw Return: \" + str(round(p5[-1],2)) + \"%\")\n",
    "print(\"10 Bin Raw Return: \" + str(round(p10[-1],2)) + \"%\")\n",
    "print(\"S&P 500 Raw Return: \" + str(round(sp[-1],2)) + \"%\")"
   ]
  },
  {
   "cell_type": "markdown",
   "id": "985e1f67",
   "metadata": {},
   "source": [
    "### Bins"
   ]
  },
  {
   "cell_type": "markdown",
   "id": "e1fbaa12",
   "metadata": {},
   "source": [
    "#### Raw"
   ]
  },
  {
   "cell_type": "code",
   "execution_count": 121,
   "id": "e47060e6",
   "metadata": {},
   "outputs": [
    {
     "name": "stdout",
     "output_type": "stream",
     "text": [
      "3 Bin Top Raw Return: -1.63%\n",
      "3 Bin Bottom Raw Return: 2.85%\n",
      "5 Bin Top Raw Return: -1.76%\n",
      "5 Bin Bottom Raw Return: 2.81%\n",
      "10 Bin Top Raw Return: -1.05%\n",
      "10 Bin Bottom Raw Return: 3.08%\n"
     ]
    }
   ],
   "source": [
    "print(\"3 Bin Top Raw Return: \" + str(round(t3[-1],2)) + \"%\")\n",
    "print(\"3 Bin Bottom Raw Return: \" + str(round(b3[-1],2)) + \"%\")\n",
    "\n",
    "print(\"5 Bin Top Raw Return: \" + str(round(t5[-1],2)) + \"%\")\n",
    "print(\"5 Bin Bottom Raw Return: \" + str(round(b5[-1],2)) + \"%\")\n",
    "\n",
    "print(\"10 Bin Top Raw Return: \" + str(round(t10[-1],2)) + \"%\")\n",
    "print(\"10 Bin Bottom Raw Return: \" + str(round(b10[-1],2)) + \"%\")"
   ]
  },
  {
   "cell_type": "code",
   "execution_count": 124,
   "id": "c22a5dad",
   "metadata": {},
   "outputs": [
    {
     "name": "stdout",
     "output_type": "stream",
     "text": [
      "3 Bin Top Relative Return: -0.11%\n",
      "3 Bin Bottom Relative Return: 4.37%\n",
      "5 Bin Top Relative Return: -0.24%\n",
      "5 Bin Bottom Relative Return: 4.33%\n",
      "10 Bin Top Relative Return: 0.47%\n",
      "10 Bin Bottom Relative Return: 4.6%\n"
     ]
    }
   ],
   "source": [
    "print(\"3 Bin Top Relative Return: \" + str(round(t3[-1]-sp[-1],2)) + \"%\")\n",
    "print(\"3 Bin Bottom Relative Return: \" + str(round(b3[-1]-sp[-1],2)) + \"%\")\n",
    "\n",
    "print(\"5 Bin Top Relative Return: \" + str(round(t5[-1]-sp[-1],2)) + \"%\")\n",
    "print(\"5 Bin Bottom Relative Return: \" + str(round(b5[-1]-sp[-1],2)) + \"%\")\n",
    "\n",
    "print(\"10 Bin Top Relative Return: \" + str(round(t10[-1]-sp[-1],2)) + \"%\")\n",
    "print(\"10 Bin Bottom Relative Return: \" + str(round(b10[-1]-sp[-1],2)) + \"%\")"
   ]
  },
  {
   "cell_type": "code",
   "execution_count": 130,
   "id": "11058fad",
   "metadata": {
    "scrolled": true
   },
   "outputs": [
    {
     "data": {
      "image/png": "[encoded data removed]",
      "text/plain": [
       "<Figure size 1368x432 with 3 Axes>"
      ]
     },
     "metadata": {
      "needs_background": "light"
     },
     "output_type": "display_data"
    }
   ],
   "source": [
    "f, (ax1, ax2, ax3) = plt.subplots(1, 3, sharey=True, sharex=True)\n",
    "f.set_figheight(6)\n",
    "f.set_figwidth(19)\n",
    "ax1.plot(date_list,t3,color=\"black\",label=\"Top Bin\", ls=\"dashed\")\n",
    "ax1.plot(date_list,b3,color=\"black\",label=\"Bottom Bin\", ls=\"dotted\")\n",
    "ax1.plot(date_list,p3,color=\"black\",label=\"Portfolio\")\n",
    "#ax1.plot(date_list,sp,color=\"grey\",label=\"S&P 500 Avg\")\n",
    "ax1.set_title(\"3 Bin Portfolio\")\n",
    "\n",
    "ax2.plot(date_list,t5,color=\"black\",label=\"Top Bin\", ls=\"dashed\")\n",
    "ax2.plot(date_list,b5,color=\"black\",label=\"Bottom Bin\", ls=\"dotted\")\n",
    "ax2.plot(date_list,p5,color=\"black\",label=\"Portfolio\")\n",
    "#ax2.plot(date_list,sp,color=\"grey\",label=\"S&P 500 Avg\")\n",
    "ax2.set_title(\"January 2021 Returns \\n5 Bin Portfolio\")\n",
    "\n",
    "ax3.plot(date_list,t10,color=\"black\",label=\"Top Bin\", ls=\"dashed\")\n",
    "ax3.plot(date_list,b10,color=\"black\",label=\"Bottom Bin\", ls=\"dotted\")\n",
    "ax3.plot(date_list,p10,color=\"black\",label=\"Portfolio\")\n",
    "#ax3.plot(date_list,sp,color=\"grey\",label=\"S&P 500 Avg\")\n",
    "ax3.set_title(\"10 Bin Portfolio\")\n",
    "\n",
    "ax2.legend(loc=\"center\")\n",
    "ax1.set_ylabel(\"Return\")\n",
    "ax2.set_xlabel(\"date_list\")\n",
    "yfmt = '%.2f%%' # Format you want the ticks, e.g. '40%'\n",
    "yticks = mtick.FormatStrFormatter(yfmt)\n",
    "ax1.yaxis.set_major_formatter(yticks)\n",
    "#ax1.yaxis.set_major_formatter('${x:1.2f}')\n",
    "xfmt = mdates.DateFormatter('%m-%d')\n",
    "ax1.xaxis.set_major_formatter(xfmt)\n",
    "ax1.grid(True)\n",
    "ax2.grid(True)\n",
    "ax3.grid(True)"
   ]
  }
 ],
 "metadata": {
  "kernelspec": {
   "display_name": "Python 3",
   "language": "python",
   "name": "python3"
  },
  "language_info": {
   "codemirror_mode": {
    "name": "ipython",
    "version": 3
   },
   "file_extension": ".py",
   "mimetype": "text/x-python",
   "name": "python",
   "nbconvert_exporter": "python",
   "pygments_lexer": "ipython3",
   "version": "3.8.3"
  },
  "toc": {
   "base_numbering": 1,
   "nav_menu": {},
   "number_sections": false,
   "sideBar": true,
   "skip_h1_title": true,
   "title_cell": "Table of Contents",
   "title_sidebar": "Contents",
   "toc_cell": true,
   "toc_position": {
    "height": "calc(100% - 180px)",
    "left": "10px",
    "top": "150px",
    "width": "256px"
   },
   "toc_section_display": true,
   "toc_window_display": true
  }
 },
 "nbformat": 4,
 "nbformat_minor": 5
}
